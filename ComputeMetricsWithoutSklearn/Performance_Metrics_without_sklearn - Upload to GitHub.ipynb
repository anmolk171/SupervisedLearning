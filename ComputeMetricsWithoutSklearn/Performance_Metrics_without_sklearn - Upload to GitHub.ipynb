{
 "cells": [
  {
   "cell_type": "markdown",
   "metadata": {
    "id": "s0Ej_bXyQvnV"
   },
   "source": [
    "# Compute performance metrics for the given Y and Y_score without sklearn"
   ]
  },
  {
   "cell_type": "code",
   "execution_count": 2,
   "metadata": {
    "id": "4CHb6NE7Qvnc"
   },
   "outputs": [],
   "source": [
    "import numpy as np\n",
    "import pandas as pd\n",
    "# other than these two you should not import any other packages"
   ]
  },
  {
   "cell_type": "markdown",
   "metadata": {
    "id": "KbsWXuDaQvnq"
   },
   "source": [
    "\n",
    "## A. Compute performance metrics for the given data '5_a.csv'\n",
    " <pre>  <b>Note 1:</b> in this data you can see number of positive points >> number of negatives points\n",
    "   <b>Note 2:</b> use pandas or numpy to read the data from <b>5_a.csv</b>\n",
    "   <b>Note 3:</b> you need to derive the class labels from given score</pre> $y^{pred}= \\text{[0 if y_score < 0.5 else 1]}$\n",
    "\n",
    "<pre>\n",
    "<ol>\n",
    "<li> Compute Confusion Matrix </li>\n",
    "<li> Compute F1 Score </li>\n",
    "<li> Compute AUC Score, you need to compute different thresholds and for each threshold compute tpr,fpr and then use               numpy.trapz(tpr_array, fpr_array) <a href='https://stackoverflow.com/q/53603376/4084039'>https://stackoverflow.com/q/53603376/4084039</a>, <a href='https://stackoverflow.com/a/39678975/4084039'>https://stackoverflow.com/a/39678975/4084039</a> Note: it should be numpy.trapz(tpr_array, fpr_array) not numpy.trapz(fpr_array, tpr_array)\n",
    "Note- Make sure that you arrange your probability scores in descending order while calculating AUC</li>\n",
    "<li> Compute Accuracy Score </li>\n",
    "</ol>\n",
    "</pre>"
   ]
  },
  {
   "cell_type": "code",
   "execution_count": 7,
   "metadata": {
    "id": "WaFLW7oBQvnt"
   },
   "outputs": [],
   "source": [
    "#reading File 5(a) and Copying the datataframe\n",
    "df_task1=pd.read_csv('C:\\\\Users\\\\anmol\\\\Downloads\\\\5_Performance_metrics-20211106T140435Z-001\\\\5_Performance_metrics\\\\5_a.csv')\n",
    "dfAUCTask1 = df_task1.copy(deep=True)"
   ]
  },
  {
   "cell_type": "code",
   "execution_count": 8,
   "metadata": {
    "id": "yg8uUJvGAfCM"
   },
   "outputs": [
    {
     "name": "stdout",
     "output_type": "stream",
     "text": [
      "Confusion Matrix is: \n",
      "[[0, 0], [100, 10000]]\n",
      "F1 Score is: 0.9950248756218906\n",
      "Accuracy Score is: 0.9900990099009901\n"
     ]
    }
   ],
   "source": [
    "#This method is used to calculate tthe Basic Parameters like TN,TP,FN,FP, Confusion Matrix, Recall,F1 Score and Precision Score\n",
    "\n",
    "def BasicParameters(df):\n",
    "    df.loc[((df['proba']>=0.5)),'y_predicted'] = 1\n",
    "    df['y_predicted'] = df['y_predicted'].fillna(0)\n",
    "    \n",
    "    #Molding DataFrame for TN,TP,FN and FP\n",
    "    \n",
    "    df['True_Positive'] = np.where((df['y']==1)&(df['y_predicted']==1),\"Yes\",np.nan)\n",
    "    df['True_Negative'] = np.where((df['y']==0)&(df['y_predicted']==0),\"Yes\",np.nan)\n",
    "    df['False_Positive'] = np.where((df['y']==0)&(df['y_predicted']==1),\"Yes\",np.nan)\n",
    "    df['False_Negative'] = np.where((df['y']==1)&(df['y_predicted']==0),\"Yes\",np.nan)\n",
    "    \n",
    "    #Calculating TN,TP,FN and FP\n",
    "    TP=df.loc[df.True_Positive == \"Yes\",'True_Positive'].count()\n",
    "    TN=df.loc[df.True_Negative == \"Yes\",'True_Negative'].count()\n",
    "    FP=df.loc[df.False_Positive == \"Yes\",'False_Positive'].count()\n",
    "    FN=df.loc[df.False_Negative == \"Yes\",'False_Negative'].count()\n",
    "    \n",
    "    confusion_matrix= [[TN,FN],[FP,TP]]\n",
    "    #Confusion Matrix\n",
    "    print(\"Confusion Matrix is: \")\n",
    "    print(confusion_matrix)\n",
    "    \n",
    "    #Calculation Precision\n",
    "    precision = (TP)/(TP+FP)\n",
    "    #Calculating Recall\n",
    "    Recall = (TP)/(TP+FN)\n",
    "    #Calculating F1 Score\n",
    "    F1_Score = 2*((precision*Recall)/(Recall+precision))\n",
    "    print(\"F1 Score is: \"+str(F1_Score))\n",
    "    \n",
    "    Accuracy_Score = (TN+TP)/(TP+TN+FP+FN)\n",
    "    print(\"Accuracy Score is: \"+str(Accuracy_Score))\n",
    "    df = pd.DataFrame(None)\n",
    "\n",
    "BasicParameters(df_task1)"
   ]
  },
  {
   "cell_type": "code",
   "execution_count": 9,
   "metadata": {},
   "outputs": [],
   "source": [
    "def compute_tpr_fpr(dataframe):\n",
    "    dataframe['True_Positive'] = np.where((dataframe['y']==1)&(dataframe['y_predicted']==1),\"Yes\",np.nan)\n",
    "    dataframe['True_Negative'] = np.where((dataframe['y']==0)&(dataframe['y_predicted']==0),\"Yes\",np.nan)\n",
    "    dataframe['False_Positive'] = np.where((dataframe['y']==0)&(dataframe['y_predicted']==1),\"Yes\",np.nan)\n",
    "    dataframe['False_Negative'] = np.where((dataframe['y']==1)&(dataframe['y_predicted']==0),\"Yes\",np.nan)\n",
    "    \n",
    "    #Calculating TN,TP,FN and FP\n",
    "    TP=dataframe.loc[dataframe.True_Positive == \"Yes\",'True_Positive'].count()\n",
    "    TN=dataframe.loc[dataframe.True_Negative == \"Yes\",'True_Negative'].count()\n",
    "    FP=dataframe.loc[dataframe.False_Positive == \"Yes\",'False_Positive'].count()\n",
    "    FN=dataframe.loc[dataframe.False_Negative == \"Yes\",'False_Negative'].count()\n",
    "    TPR = TP/(FN+TP)\n",
    "    FPR= FP/(FP+TN)\n",
    "    dataframe = pd.DataFrame(None)\n",
    "    return TPR,FPR"
   ]
  },
  {
   "cell_type": "code",
   "execution_count": 10,
   "metadata": {},
   "outputs": [],
   "source": [
    "df3 = dfAUCTask1.copy(deep=True)\n",
    "df2=df3.copy(deep=True)\n",
    "predicted_prob = df2[\"proba\"].values\n",
    "thresholds = sorted(predicted_prob,reverse=True)\n",
    "\n",
    "#Computing TPR and FPR Array\n",
    "tpr_array = []\n",
    "fpr_array =[]\n",
    "for threshold in thresholds:\n",
    "    df2=df3.copy(deep=True)\n",
    "    threshold= threshold\n",
    "    df2.loc[((df2['proba']>=threshold)),'y_predicted'] = 1\n",
    "    df2['y_predicted'] =df2['y_predicted'].fillna(0)\n",
    "    tpr,fpr = compute_tpr_fpr(df2)\n",
    "    tpr_array.append(tpr)\n",
    "    fpr_array.append(fpr)"
   ]
  },
  {
   "cell_type": "code",
   "execution_count": 11,
   "metadata": {},
   "outputs": [
    {
     "name": "stdout",
     "output_type": "stream",
     "text": [
      "0.48829900000000004\n"
     ]
    }
   ],
   "source": [
    "pAUC = np.trapz(tpr_array, fpr_array)\n",
    "\n",
    "print(pAUC)"
   ]
  },
  {
   "cell_type": "code",
   "execution_count": 12,
   "metadata": {},
   "outputs": [
    {
     "data": {
      "image/png": "[encoded data removed]",
      "text/plain": [
       "<Figure size 576x396 with 1 Axes>"
      ]
     },
     "metadata": {},
     "output_type": "display_data"
    }
   ],
   "source": [
    "import scikitplot as skplt\n",
    "import matplotlib.pyplot as plt\n",
    "\n",
    "#y_true = df_task1[\"y\"]\n",
    "#y_probas = df_task1[\"proba\"]\n",
    "#skplt.metrics.plot_roc_curve(y_true, y_probas)\n",
    "#plt.show()\n",
    "import matplotlib.pyplot as plt\n",
    "plt.style.use('seaborn')\n",
    "\n",
    "# plot roc curves\n",
    "plt.plot(fpr_array, tpr_array, linestyle='--',color='green', label='KNN')\n",
    "# title\n",
    "plt.title('ROC curve')\n",
    "# x label\n",
    "plt.xlabel('False Positive Rate')\n",
    "# y label\n",
    "plt.ylabel('True Positive rate')\n",
    "\n",
    "plt.legend(loc='best')\n",
    "plt.savefig('ROC',dpi=300)\n",
    "plt.show();\n"
   ]
  },
  {
   "cell_type": "markdown",
   "metadata": {
    "id": "V5KZem1BQvn2"
   },
   "source": [
    "\n",
    "\n",
    "## B. Compute performance metrics for the given data '5_b.csv'\n",
    "<pre>\n",
    "   <b>Note 1:</b> in this data you can see number of positive points << number of negatives points\n",
    "   <b>Note 2:</b> use pandas or numpy to read the data from <b>5_b.csv</b>\n",
    "   <b>Note 3:</b> you need to derive the class labels from given score</pre> $y^{pred}= \\text{[0 if y_score < 0.5 else 1]}$\n",
    "\n",
    "<pre>\n",
    "<ol>\n",
    "<li> Compute Confusion Matrix </li>\n",
    "<li> Compute F1 Score </li>\n",
    "<li> Compute AUC Score, you need to compute different thresholds and for each threshold compute tpr,fpr and then use               numpy.trapz(tpr_array, fpr_array) <a href='https://stackoverflow.com/q/53603376/4084039'>https://stackoverflow.com/q/53603376/4084039</a>, <a href='https://stackoverflow.com/a/39678975/4084039'>https://stackoverflow.com/a/39678975/4084039</a>\n",
    "Note- Make sure that you arrange your probability scores in descending order while calculating AUC</li>\n",
    "<li> Compute Accuracy Score </li>\n",
    "</ol>\n",
    "</pre>"
   ]
  },
  {
   "cell_type": "code",
   "execution_count": 13,
   "metadata": {
    "id": "U2sKlq0YQvn5"
   },
   "outputs": [
    {
     "name": "stdout",
     "output_type": "stream",
     "text": [
      "Confusion Matrix is: \n",
      "[[9761, 45], [239, 55]]\n",
      "F1 Score is: 0.2791878172588833\n",
      "Accuracy Score is: 0.9718811881188119\n"
     ]
    }
   ],
   "source": [
    "#reading File 5(b) and Copying the datataframe\n",
    "df_task2=pd.read_csv('C:\\\\Users\\\\anmol\\\\Downloads\\\\5_Performance_metrics-20211106T140435Z-001\\\\5_Performance_metrics\\\\5_b.csv')\n",
    "dfAUCTask2 = df_task2.copy(deep=True)\n",
    "\n",
    "#Printinting Basic Parameters of Task -2\n",
    "BasicParameters(df_task2)"
   ]
  },
  {
   "cell_type": "code",
   "execution_count": 14,
   "metadata": {
    "id": "xlLVa-cVAfCS"
   },
   "outputs": [],
   "source": [
    "df3_task2 = dfAUCTask2.copy(deep=True)\n",
    "df2_task2=df3_task2.copy(deep=True)\n",
    "predicted_prob = df2_task2[\"proba\"].values\n",
    "thresholds = sorted(predicted_prob,reverse=True)\n",
    "\n",
    "#Computing TPR and FPR Array\n",
    "tpr_array = []\n",
    "fpr_array =[]\n",
    "for threshold in thresholds:\n",
    "    df2_task2=df3_task2.copy(deep=True)\n",
    "    threshold= threshold\n",
    "    df2_task2.loc[((df2_task2['proba']>=threshold)),'y_predicted'] = 1\n",
    "    df2_task2['y_predicted'] =df2_task2['y_predicted'].fillna(0)\n",
    "    tpr,fpr = compute_tpr_fpr(df2_task2)\n",
    "    tpr_array.append(tpr)\n",
    "    fpr_array.append(fpr)"
   ]
  },
  {
   "cell_type": "code",
   "execution_count": 16,
   "metadata": {},
   "outputs": [
    {
     "name": "stdout",
     "output_type": "stream",
     "text": [
      "AUC for Task 2 is: 0.9377570000000001\n"
     ]
    }
   ],
   "source": [
    "pAUC = np.trapz(tpr_array, fpr_array)\n",
    "\n",
    "print(\"AUC for Task 2 is: \"+str(pAUC))"
   ]
  },
  {
   "cell_type": "code",
   "execution_count": 18,
   "metadata": {},
   "outputs": [
    {
     "name": "stderr",
     "output_type": "stream",
     "text": [
      "No handles with labels found to put in legend.\n"
     ]
    },
    {
     "data": {
      "image/png": "[encoded data removed]",
      "text/plain": [
       "<Figure size 576x396 with 1 Axes>"
      ]
     },
     "metadata": {},
     "output_type": "display_data"
    }
   ],
   "source": [
    "import scikitplot as skplt\n",
    "import matplotlib.pyplot as plt\n",
    "\n",
    "#y_true = df_task1[\"y\"]\n",
    "#y_probas = df_task1[\"proba\"]\n",
    "#skplt.metrics.plot_roc_curve(y_true, y_probas)\n",
    "#plt.show()\n",
    "import matplotlib.pyplot as plt\n",
    "plt.style.use('seaborn')\n",
    "\n",
    "# plot roc curves\n",
    "plt.plot(fpr_array, tpr_array, linestyle='--',color='green')\n",
    "# title\n",
    "plt.title('ROC curve')\n",
    "# x label\n",
    "plt.xlabel('False Positive Rate')\n",
    "# y label\n",
    "plt.ylabel('True Positive rate')\n",
    "\n",
    "plt.legend(loc='best')\n",
    "plt.savefig('ROC',dpi=300)\n",
    "plt.show();\n"
   ]
  },
  {
   "cell_type": "markdown",
   "metadata": {
    "id": "GiPGonTzQvoB"
   },
   "source": [
    "### C. Compute the best threshold (similarly to ROC curve computation) of probability which gives lowest values of metric <b>A</b> for the given data \n",
    "<br>\n",
    "\n",
    "you will be predicting label of a data points like this: $y^{pred}= \\text{[0 if y_score < threshold  else 1]}$\n",
    "\n",
    "$ A = 500 \\times \\text{number of false negative} + 100 \\times \\text{numebr of false positive}$\n",
    "\n",
    "<pre>\n",
    "   <b>Note 1:</b> in this data you can see number of negative points > number of positive points\n",
    "   <b>Note 2:</b> use pandas or numpy to read the data from <b>5_c.csv</b>\n",
    "</pre>"
   ]
  },
  {
   "cell_type": "code",
   "execution_count": 19,
   "metadata": {
    "id": "x5HIJzq1QvoE"
   },
   "outputs": [
    {
     "name": "stdout",
     "output_type": "stream",
     "text": [
      "Confusion Matrix is: \n",
      "[[1637, 462], [168, 585]]\n",
      "F1 Score is: 0.65\n",
      "Accuracy Score is: 0.7791023842917251\n"
     ]
    }
   ],
   "source": [
    "#reading File 5(c) and Copying the datataframe\n",
    "df_task3=pd.read_csv('C:\\\\Users\\\\anmol\\\\Downloads\\\\5_Performance_metrics-20211106T140435Z-001\\\\5_Performance_metrics\\\\5_c.csv')\n",
    "dfAUCTask3 = df_task3.copy(deep=True)\n",
    "\n",
    "\n",
    "#This method is used to calculate tthe Basic Parameters like TN,TP,FN,FP, Confusion Matrix, Recall,F1 Score and Precision Score\n",
    "\n",
    "def BasicParametersTask3(df):\n",
    "    df.loc[((df['prob']>=0.5)),'y_predicted'] = 1\n",
    "    df['y_predicted'] = df['y_predicted'].fillna(0)\n",
    "    \n",
    "    #Molding DataFrame for TN,TP,FN and FP\n",
    "    \n",
    "    df['True_Positive'] = np.where((df['y']==1)&(df['y_predicted']==1),\"Yes\",np.nan)\n",
    "    df['True_Negative'] = np.where((df['y']==0)&(df['y_predicted']==0),\"Yes\",np.nan)\n",
    "    df['False_Positive'] = np.where((df['y']==0)&(df['y_predicted']==1),\"Yes\",np.nan)\n",
    "    df['False_Negative'] = np.where((df['y']==1)&(df['y_predicted']==0),\"Yes\",np.nan)\n",
    "    \n",
    "    #Calculating TN,TP,FN and FP\n",
    "    TP=df.loc[df.True_Positive == \"Yes\",'True_Positive'].count()\n",
    "    TN=df.loc[df.True_Negative == \"Yes\",'True_Negative'].count()\n",
    "    FP=df.loc[df.False_Positive == \"Yes\",'False_Positive'].count()\n",
    "    FN=df.loc[df.False_Negative == \"Yes\",'False_Negative'].count()\n",
    "    \n",
    "    confusion_matrix= [[TN,FN],[FP,TP]]\n",
    "    #Confusion Matrix\n",
    "    print(\"Confusion Matrix is: \")\n",
    "    print(confusion_matrix)\n",
    "    \n",
    "    #Calculation Precision\n",
    "    precision = (TP)/(TP+FP)\n",
    "    #Calculating Recall\n",
    "    Recall = (TP)/(TP+FN)\n",
    "    #Calculating F1 Score\n",
    "    F1_Score = 2*((precision*Recall)/(Recall+precision))\n",
    "    print(\"F1 Score is: \"+str(F1_Score))\n",
    "    \n",
    "    Accuracy_Score = (TN+TP)/(TP+TN+FP+FN)\n",
    "    print(\"Accuracy Score is: \"+str(Accuracy_Score))\n",
    "    df = pd.DataFrame(None)\n",
    "\n",
    "BasicParametersTask3(dfAUCTask3)\n",
    "#Printinting Basic Parameters of Task -3"
   ]
  },
  {
   "cell_type": "code",
   "execution_count": 20,
   "metadata": {},
   "outputs": [],
   "source": [
    "#This method will create Matric A also TPR and FPR\n",
    "def compute_tpr_fpr_task3(dataframe):\n",
    "    dataframe['True_Positive'] = np.where((dataframe['y']==1)&(dataframe['y_predicted']==1),\"Yes\",np.nan)\n",
    "    dataframe['True_Negative'] = np.where((dataframe['y']==0)&(dataframe['y_predicted']==0),\"Yes\",np.nan)\n",
    "    dataframe['False_Positive'] = np.where((dataframe['y']==0)&(dataframe['y_predicted']==1),\"Yes\",np.nan)\n",
    "    dataframe['False_Negative'] = np.where((dataframe['y']==1)&(dataframe['y_predicted']==0),\"Yes\",np.nan)\n",
    "    \n",
    "    #Calculating TN,TP,FN and FP\n",
    "    TP=dataframe.loc[dataframe.True_Positive == \"Yes\",'True_Positive'].count()\n",
    "    TN=dataframe.loc[dataframe.True_Negative == \"Yes\",'True_Negative'].count()\n",
    "    FP=dataframe.loc[dataframe.False_Positive == \"Yes\",'False_Positive'].count()\n",
    "    FN=dataframe.loc[dataframe.False_Negative == \"Yes\",'False_Negative'].count()\n",
    "    TPR = TP/(FN+TP)\n",
    "    FPR= FP/(FP+TN)\n",
    "    A = ((500*FN)+(100*FP))\n",
    "    \n",
    "    dataframe = pd.DataFrame(None)\n",
    "    return TPR,FPR,A"
   ]
  },
  {
   "cell_type": "code",
   "execution_count": 21,
   "metadata": {
    "id": "eAPjewjzAfCa"
   },
   "outputs": [
    {
     "name": "stdout",
     "output_type": "stream",
     "text": [
      "\n"
     ]
    }
   ],
   "source": [
    "\n",
    "#This code is use to find the threshold which gives minimum of A\n",
    "\n",
    "df3_task3 = dfAUCTask3.copy(deep=True)\n",
    "df2_task3=df3_task3.copy(deep=True)\n",
    "predicted_prob = df2_task3[\"prob\"].values\n",
    "thresholds = sorted(predicted_prob,reverse=True)\n",
    "print()\n",
    "#Computing TPR and FPR Array\n",
    "tpr_array = []\n",
    "fpr_array =[]\n",
    "threshold_final = 0\n",
    "count=0\n",
    "temp=0\n",
    "temp_A=0\n",
    "for threshold in thresholds:\n",
    "    df2_task3=df3_task3.copy(deep=True)\n",
    "    threshold= threshold\n",
    "    df2_task3.loc[((df2_task3['prob']>=threshold)),'y_predicted'] = 1\n",
    "    df2_task3['y_predicted'] =df2_task3['y_predicted'].fillna(0)\n",
    "    tpr,fpr,A = compute_tpr_fpr_task3(df2_task3)\n",
    "    \n",
    "    if count==0:\n",
    "        temp=A\n",
    "        temp_A=A\n",
    "    else:\n",
    "        temp=A\n",
    "    if A<temp_A:\n",
    "        temp_A=A\n",
    "        threshold_final = threshold\n",
    "    tpr_array.append(tpr)\n",
    "    fpr_array.append(fpr)\n",
    "    count=count+1\n",
    "    temp=0"
   ]
  },
  {
   "cell_type": "code",
   "execution_count": 22,
   "metadata": {},
   "outputs": [
    {
     "name": "stdout",
     "output_type": "stream",
     "text": [
      "Value of least A is: 141000\n",
      "Value of threshold which give least value of A is: 0.2300390278970873\n"
     ]
    }
   ],
   "source": [
    "print(\"Value of least A is: \"+str(temp_A))\n",
    "print(\"Value of threshold which give least value of A is: \"+str(threshold_final))"
   ]
  },
  {
   "cell_type": "markdown",
   "metadata": {
    "id": "sD4CcgjXQvoL"
   },
   "source": [
    "\n",
    "## D.</b></font> Compute performance metrics(for regression) for the given data 5_d.csv\n",
    "<pre>    <b>Note 2:</b> use pandas or numpy to read the data from <b>5_d.csv</b>\n",
    "    <b>Note 1:</b> <b>5_d.csv</b> will having two columns Y and predicted_Y both are real valued features\n",
    "<ol>\n",
    "<li> Compute Mean Square Error </li>\n",
    "<li> Compute MAPE: https://www.youtube.com/watch?v=ly6ztgIkUxk</li>\n",
    "<li> Compute R^2 error: https://en.wikipedia.org/wiki/Coefficient_of_determination#Definitions </li>\n",
    "</ol>\n",
    "</pre>"
   ]
  },
  {
   "cell_type": "code",
   "execution_count": 3,
   "metadata": {
    "id": "sVOj-bF9AfCd"
   },
   "outputs": [],
   "source": [
    "#reading File 5(d) and Copying the datataframe\n",
    "df_task4=pd.read_csv('C:\\\\Users\\\\anmol\\\\Downloads\\\\5_Performance_metrics-20211106T140435Z-001\\\\5_Performance_metrics\\\\5_d.csv')\n",
    "dfMAPETask4 = df_task4.copy(deep=True)"
   ]
  },
  {
   "cell_type": "code",
   "execution_count": 33,
   "metadata": {
    "id": "uRhL1pheAfCe"
   },
   "outputs": [
    {
     "name": "stdout",
     "output_type": "stream",
     "text": [
      "       y   pred\n",
      "0  101.0  100.0\n",
      "1  120.0  100.0\n",
      "2  131.0  113.0\n",
      "3  164.0  125.0\n",
      "4  154.0  152.0\n",
      "5  133.0  153.0\n",
      "6  148.0  139.0\n",
      "7  172.0  145.0\n",
      "8  153.0  162.0\n",
      "9  162.0  154.0\n"
     ]
    }
   ],
   "source": [
    "print(df_task4.head(10))"
   ]
  },
  {
   "cell_type": "code",
   "execution_count": 24,
   "metadata": {},
   "outputs": [
    {
     "name": "stdout",
     "output_type": "stream",
     "text": [
      "Mean Squared Error is: 177.16569974554707\n"
     ]
    }
   ],
   "source": [
    "MSE = np.square(np.subtract(df_task4['y'],df_task4['pred'])).mean()\n",
    "print(\"Mean Squared Error is: \"+str(MSE))"
   ]
  },
  {
   "cell_type": "code",
   "execution_count": 7,
   "metadata": {},
   "outputs": [
    {
     "name": "stdout",
     "output_type": "stream",
     "text": [
      "Value of MAPE is: 0.1291202994009687\n"
     ]
    }
   ],
   "source": [
    "#Replace all the Value of Zero's with Average of all the values in \"y\"\n",
    "#Mean_of_Y = dfMAPETask4['y'].mean()\n",
    "#dfMAPETask4['y'].replace(['0', '0.0',0,\"NaN\",\"nan\"],Mean_of_Y, inplace=True)\n",
    "#MAPE = np.mean(np.abs((dfMAPETask4['y'] - dfMAPETask4['pred'])/Mean_of_Y))\n",
    "#print(\"Value of MAPE using Method -1 is: \"+str(MAPE))\n",
    "\n",
    "\n",
    "numerator_df = abs(dfMAPETask4['y'].values - dfMAPETask4['pred'].values)\n",
    "num = numerator_df.sum()\n",
    "denominator_df = dfMAPETask4['y'].values\n",
    "den = denominator_df.sum()\n",
    "print(\"Value of MAPE is: \"+str(num/den))\n",
    "\n",
    "\n",
    "#I didn't get 0.1291202994009687"
   ]
  },
  {
   "cell_type": "code",
   "execution_count": 35,
   "metadata": {},
   "outputs": [],
   "source": [
    "#Got this code from https://stackoverflow.com/questions/893657/how-do-i-calculate-r-squared-using-python-and-numpy\n",
    "\n",
    "#Modified the code according and set degree =1 for Linear Fit Regression\n",
    "def GetRSquare(x, y, degree):\n",
    "    results = {}\n",
    "    coeffs = np.polyfit(x, y, degree)\n",
    "\n",
    "     # Polynomial Coefficients\n",
    "    results['polynomial'] = coeffs.tolist()\n",
    "\n",
    "    # r-squared\n",
    "    p = np.poly1d(coeffs)\n",
    "    # fit values, and mean\n",
    "    yhat = p(x)                         # or [p(z) for z in x]\n",
    "    ybar = np.sum(y)/len(y)          # or sum(y)/len(y)\n",
    "    ssreg = np.sum((yhat-ybar)**2)   # or sum([ (yihat - ybar)**2 for yihat in yhat])\n",
    "    sstot = np.sum((y - ybar)**2)    # or sum([ (yi - ybar)**2 for yi in y])\n",
    "    results['determination'] =((ssreg / sstot))\n",
    "\n",
    "    return results"
   ]
  },
  {
   "cell_type": "code",
   "execution_count": 36,
   "metadata": {},
   "outputs": [],
   "source": [
    "x=df_task4[\"y\"].reset_index(drop=True)\n",
    "y=df_task4[\"pred\"].reset_index(drop=True)\n",
    "Res = GetRSquare(x,y,1)"
   ]
  },
  {
   "cell_type": "code",
   "execution_count": 37,
   "metadata": {},
   "outputs": [
    {
     "name": "stdout",
     "output_type": "stream",
     "text": [
      "Value of R Square is: 0.956360040988057\n"
     ]
    }
   ],
   "source": [
    "print(\"Value of R Square is: \"+str(Res['determination']))"
   ]
  },
  {
   "cell_type": "code",
   "execution_count": null,
   "metadata": {},
   "outputs": [],
   "source": []
  }
 ],
 "metadata": {
  "colab": {
   "collapsed_sections": [],
   "name": "5_Performance_metrics_Instructions.ipynb",
   "provenance": []
  },
  "kernelspec": {
   "display_name": "Python 3 (ipykernel)",
   "language": "python",
   "name": "python3"
  },
  "language_info": {
   "codemirror_mode": {
    "name": "ipython",
    "version": 3
   },
   "file_extension": ".py",
   "mimetype": "text/x-python",
   "name": "python",
   "nbconvert_exporter": "python",
   "pygments_lexer": "ipython3",
   "version": "3.9.13"
  }
 },
 "nbformat": 4,
 "nbformat_minor": 1
}
