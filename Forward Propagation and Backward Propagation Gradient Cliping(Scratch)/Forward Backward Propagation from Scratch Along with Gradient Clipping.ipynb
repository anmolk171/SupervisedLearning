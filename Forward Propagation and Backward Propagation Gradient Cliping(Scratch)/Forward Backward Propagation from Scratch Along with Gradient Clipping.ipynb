{
 "cells": [
  {
   "cell_type": "markdown",
   "metadata": {
    "id": "y871RZtRhCEH"
   },
   "source": [
    "# <font color='red'>Backpropagation</font>"
   ]
  },
  {
   "cell_type": "markdown",
   "metadata": {
    "id": "LqePYi-4mFvK"
   },
   "source": [
    "\n",
    "In this project, you will implement Backpropagation from scratch. You will then verify the correctness of the your implementation using a \"grader\" function/cell (provided by us) which will match your implmentation.\n",
    "\n",
    "The grader fucntion would help you validate the correctness of your code. \n"
   ]
  },
  {
   "cell_type": "markdown",
   "metadata": {
    "id": "0huUQ0byiI0I"
   },
   "source": [
    "## <font color='red'>Loading data </font>"
   ]
  },
  {
   "cell_type": "code",
   "execution_count": 1,
   "metadata": {
    "id": "1hSje5CBgcUb"
   },
   "outputs": [
    {
     "name": "stdout",
     "output_type": "stream",
     "text": [
      "(506, 6)\n",
      "(506, 5) (506,)\n"
     ]
    }
   ],
   "source": [
    "import pickle\n",
    "import numpy as np\n",
    "from tqdm import tqdm\n",
    "import matplotlib.pyplot as plt\n",
    "import math\n",
    "\n",
    "with open('C:\\\\Users\\\\Administrator\\\\Downloads\\\\data.pkl', 'rb') as f:\n",
    "    data = pickle.load(f)\n",
    "print(data.shape)\n",
    "X = data[:, :5]\n",
    "y = data[:, -1]\n",
    "print(X.shape, y.shape)"
   ]
  },
  {
   "cell_type": "code",
   "execution_count": 2,
   "metadata": {},
   "outputs": [
    {
     "data": {
      "text/plain": [
       "('64bit', 'WindowsPE')"
      ]
     },
     "execution_count": 2,
     "metadata": {},
     "output_type": "execute_result"
    }
   ],
   "source": [
    "import platform\n",
    "platform.architecture()"
   ]
  },
  {
   "cell_type": "markdown",
   "metadata": {
    "id": "hmphIg_E52Rs"
   },
   "source": [
    "<font color='blue'><b>Check this video for better understanding of the computational graphs and back propagation</font>"
   ]
  },
  {
   "cell_type": "code",
   "execution_count": 3,
   "metadata": {
    "colab": {
     "base_uri": "https://localhost:8080/",
     "height": 520
    },
    "id": "uUWpHhgg53eu",
    "outputId": "3cc89735-d0a7-4c1c-aab5-d4e75b856a6b"
   },
   "outputs": [],
   "source": [
    "from IPython.display import YouTubeVideo\n",
    "#YouTubeVideo('i94OvYb6noo',width=\"1000\",height=\"500\")"
   ]
  },
  {
   "cell_type": "markdown",
   "metadata": {
    "id": "5JL-0soQistC"
   },
   "source": [
    "# <font color='red'>Computational graph</font>"
   ]
  },
  {
   "cell_type": "markdown",
   "metadata": {
    "id": "nREnTTJ3i0Vd"
   },
   "source": [
    "<img src='https://i.imgur.com/seSGbNS.png'>"
   ]
  },
  {
   "cell_type": "markdown",
   "metadata": {
    "id": "DSPX_H_4i_HT"
   },
   "source": [
    "\n",
    "*  **If you observe the graph, we are having input features [f1, f2, f3, f4, f5] and 9 weights [w1, w2, w3, w4, w5, w6,    w7, w8, w9]**.<br><br>\n",
    "*  **The final output of this graph is a value L which is computed as (Y-Y')^2** "
   ]
  },
  {
   "cell_type": "markdown",
   "metadata": {
    "id": "D54eDEv6jkO4"
   },
   "source": [
    "## <font color='red'>Task 1: Implementing Forward propagation, Backpropagation and Gradient checking </font>"
   ]
  },
  {
   "cell_type": "markdown",
   "metadata": {
    "id": "xyWK94o_fTKH"
   },
   "source": [
    "# <font color='red'>Task 1.1 </font>"
   ]
  },
  {
   "cell_type": "markdown",
   "metadata": {
    "id": "RwEcPWLffTKI"
   },
   "source": [
    "## <font color='blue'>Forward propagation </font>"
   ]
  },
  {
   "cell_type": "markdown",
   "metadata": {
    "id": "FCZrm-gkfTKI"
   },
   "source": [
    "\n",
    "*  <b>\n",
    "    Forward propagation</b>(Write your code in<font color='blue'> def forward_propagation()</b></font>)<br><br>\n",
    "    For easy debugging, we will break the computational graph into 3 parts.\n",
    "\n",
    "    <font color='green'><b>Part 1</b></font></b>\n",
    "    <img src='https://i.imgur.com/0xUaxy6.png'><br><br>\n",
    "    <font color='green'><b>Part 2</b></font></b><br>\n",
    "    <img src='https://i.imgur.com/J29pAJL.png'><br><br>\n",
    "    <font color='green'><b>Part 3</b></font></b>\n",
    "    <img src='https://i.imgur.com/vMyCsd9.png'>"
   ]
  },
  {
   "cell_type": "code",
   "execution_count": 4,
   "metadata": {
    "id": "ADCovl2FfTKJ"
   },
   "outputs": [],
   "source": [
    "import math\n",
    "def sigmoid(z):\n",
    "    '''In this function, we will compute the sigmoid(z)'''\n",
    "    # we can use this function in forward and backward propagation\n",
    "    # write the code to compute the sigmoid value of z and return that value \n",
    "    sigm =  1 / (1 + math.exp(-z))\n",
    "    return sigm"
   ]
  },
  {
   "cell_type": "code",
   "execution_count": 5,
   "metadata": {
    "id": "dLJ-OYwefTKJ"
   },
   "outputs": [
    {
     "data": {
      "text/plain": [
       "True"
      ]
     },
     "execution_count": 5,
     "metadata": {},
     "output_type": "execute_result"
    }
   ],
   "source": [
    "def grader_sigmoid(z):\n",
    "    #if you have written the code correctly then the grader function will output true\n",
    "    val=sigmoid(z)\n",
    "    assert(val==0.8807970779778823)\n",
    "    return True\n",
    "grader_sigmoid(2)"
   ]
  },
  {
   "cell_type": "code",
   "execution_count": 6,
   "metadata": {},
   "outputs": [],
   "source": [
    "def sigmoid_derivative(x):\n",
    "    res=x * (1 - x)\n",
    "    return res"
   ]
  },
  {
   "cell_type": "code",
   "execution_count": 7,
   "metadata": {
    "id": "KD3piNkifTKJ"
   },
   "outputs": [],
   "source": [
    "import numpy as np\n",
    "\n",
    "def forward_propagation(x, y, w):\n",
    "        '''In this function, we will compute the forward propagation '''\n",
    "        # X: input data point, note that in this assignment you are having 5-d data points\n",
    "        # y: output varible\n",
    "        # W: weight array, its of length 9, W[0] corresponds to w1 in graph, W[1] corresponds to w2 in graph,..., W[8] corresponds to w9 in graph.  \n",
    "        # you have to return the following variables\n",
    "        # exp= part1 (compute the forward propagation until exp and then store the values in exp)\n",
    "        # tanh =part2(compute the forward propagation until tanh and then store the values in tanh)\n",
    "        # sig = part3(compute the forward propagation until sigmoid and then store the values in sig)\n",
    "        # we are computing one of the values for better understanding\n",
    "        \n",
    "        val_1= (w[0]*x[0]+w[1]*x[1]) * (w[0]*x[0]+w[1]*x[1]) + w[5]\n",
    "        part_1 = np.exp(val_1)\n",
    "        val_2= part_1 + w[6]\n",
    "        part_2 = np.tanh(val_2)\n",
    "        part_3 = ((np.sin(w[2]*x[2]))*((w[3]*x[3])+(w[4]*x[4])))+w[7]\n",
    "        \n",
    "        y_pred=part_2+(sigmoid(part_3)*w[8])\n",
    "        y_true = y\n",
    "        \n",
    "        # after computing part1,part2 and part3 compute the value of y' from the main Computational graph using required equations\n",
    "        # write code to compute the value of L=(y-y')^2 and store it in variable loss\n",
    "        # compute derivative of L  w.r.to y' and store it in dy_pred \n",
    "        # Create a dictionary to store all the intermediate values i.e. dy_pred ,loss,exp,tanh,sigmoid\n",
    "        # we will be using the dictionary to find values in backpropagation, you can add other keys in dictionary as well\n",
    "        \n",
    "        forward_dict={}\n",
    "        forward_dict['exp']= part_1\n",
    "        forward_dict['sigmoid'] =sigmoid(part_3)\n",
    "        forward_dict['tanh'] =part_2\n",
    "        forward_dict['loss'] =pow((y_true-y_pred),2)\n",
    "        forward_dict['dy_pred'] = -2*(y_true-y_pred)\n",
    "        \n",
    "        return forward_dict"
   ]
  },
  {
   "cell_type": "code",
   "execution_count": null,
   "metadata": {},
   "outputs": [],
   "source": []
  },
  {
   "cell_type": "code",
   "execution_count": 8,
   "metadata": {
    "id": "vP0iV7f4fTKK"
   },
   "outputs": [
    {
     "data": {
      "text/plain": [
       "True"
      ]
     },
     "execution_count": 8,
     "metadata": {},
     "output_type": "execute_result"
    }
   ],
   "source": [
    "def grader_forwardprop(data):\n",
    "    dl = (data['dy_pred']==-1.9285278284819143)\n",
    "    loss=(data['loss']==0.9298048963072919)\n",
    "    part1=(data['exp']==1.1272967040973583)\n",
    "    part2=(data['tanh']==0.8417934192562146)\n",
    "    part3=(data['sigmoid']==0.5279179387419721)\n",
    "    assert(dl and loss and part1 and part2 and part3)\n",
    "    return True\n",
    "w=np.ones(9)*0.1\n",
    "d1=forward_propagation(X[0],y[0],w)\n",
    "grader_forwardprop(d1)"
   ]
  },
  {
   "cell_type": "markdown",
   "metadata": {
    "id": "2zcQmvkvfTKL"
   },
   "source": [
    "# <font color='red'>Task 1.2 </font>"
   ]
  },
  {
   "cell_type": "markdown",
   "metadata": {
    "id": "4YVYD18xfTKL"
   },
   "source": [
    "## <font color='blue'>Backward propagation</font>"
   ]
  },
  {
   "cell_type": "code",
   "execution_count": 9,
   "metadata": {
    "id": "Ld1PMQtffTKL"
   },
   "outputs": [],
   "source": [
    "def backward_propagation(x,y,w,forward_dict):\n",
    "    '''In this function, we will compute the backward propagation '''\n",
    "    # forward_dict: the outputs of the forward_propagation() function\n",
    "    \n",
    "    #loss_derivative * (1-tanh^2)\n",
    "    derivative7 = forward_dict['dy_pred']*(1-(math.pow(forward_dict['tanh'],2)))\n",
    "    \n",
    "    #As there is no mathematical function so simple math will do this\n",
    "    derivative9= forward_dict['dy_pred']*forward_dict['sigmoid']\n",
    "    \n",
    "    #loss_derivative*(sigmoid)*(1-sigmoid)*w9  as w9 is stored in w[8]\n",
    "    derivative8 = derivative9*(1-forward_dict['sigmoid'])*w[8]\n",
    "    \n",
    "    #derivative8*derivative of(sin(w3*x3)*((w4*x4)+(w5*x5))\n",
    "    derivative3 =derivative8 *math.cos(x[2]*w[2]) * ((w[3]*x[3])+(w[4]*x[4])) * x[2]\n",
    "    \n",
    "    #derivative8 *derivative of(sin(w3*x3)*((w4*x4)+(w5*x5)) wrt w4\n",
    "    derivative4 =derivative8 *math.sin(x[2]*w[2]) * x[3]\n",
    "    \n",
    "    #derivative8 *derivative of(sin(w3*x3)*((w4*x4)+(w5*x5)) wrt w5\n",
    "    derivative5 =derivative8 *math.sin(x[2]*w[2]) * x[4]\n",
    "    \n",
    "    #derivative7*derivative of(e(forward_dict[exp]))\n",
    "    derivative6 = derivative7*forward_dict[\"exp\"]\n",
    "    \n",
    "    #derivative6*derivative of (((w[0]*x[0])+(w[1]*x[1])^2)) wrt w1\n",
    "    derivative1 = derivative6 * 2 * ((w[0]*x[0])+(w[1]*x[1])) * x[0]\n",
    "    \n",
    "    #derivative6*derivative of (((w[0]*x[0])+(w[1]*x[1])^2)) wrt w2\n",
    "    derivative2 = derivative6 * 2 * ((w[0]*x[0])+(w[1]*x[1])) * x[1]\n",
    "    \n",
    "    backward_dict={}\n",
    "    backward_dict['dw1'] = derivative1\n",
    "    backward_dict['dw2'] = derivative2\n",
    "    backward_dict['dw3'] = derivative3\n",
    "    backward_dict['dw4'] = derivative4\n",
    "    backward_dict['dw5'] = derivative5\n",
    "    backward_dict['dw6'] = derivative6\n",
    "    backward_dict['dw7'] = derivative7\n",
    "    backward_dict['dw8'] = derivative8\n",
    "    backward_dict['dw9'] = derivative9\n",
    "    #store the variables dw1,dw2 etc. in a dict as backward_dict['dw1']= dw1,backward_dict['dw2']= dw2...\n",
    "    \n",
    "    \n",
    "    return backward_dict"
   ]
  },
  {
   "cell_type": "code",
   "execution_count": 10,
   "metadata": {
    "id": "0ipQbNXOfTKM"
   },
   "outputs": [
    {
     "data": {
      "text/plain": [
       "True"
      ]
     },
     "execution_count": 10,
     "metadata": {},
     "output_type": "execute_result"
    }
   ],
   "source": [
    "def grader_backprop(data):\n",
    "    dw1=(np.round(data['dw1'],6)==-0.229733)\n",
    "    dw2=(np.round(data['dw2'],6)==-0.021408)\n",
    "    dw3=(np.round(data['dw3'],6)==-0.005625)\n",
    "    dw4=(np.round(data['dw4'],6)==-0.004658)\n",
    "    dw5=(np.round(data['dw5'],6)==-0.001008)\n",
    "    dw6=(np.round(data['dw6'],6)==-0.633475)\n",
    "    dw7=(np.round(data['dw7'],6)==-0.561942)\n",
    "    dw8=(np.round(data['dw8'],6)==-0.048063)\n",
    "    dw9=(np.round(data['dw9'],6)==-1.018104)\n",
    "    assert(dw1 and dw2 and dw3 and dw4 and dw5 and dw6 and dw7 and dw8 and dw9)\n",
    "    return True \n",
    "w=np.ones(9)*0.1\n",
    "forward_dict=forward_propagation(X[0],y[0],w)\n",
    "backward_dict=backward_propagation(X[0],y[0],w,forward_dict)\n",
    "grader_backprop(backward_dict)"
   ]
  },
  {
   "cell_type": "markdown",
   "metadata": {
    "id": "RlR1JVN5fTKM"
   },
   "source": [
    "# <font color='red'>Task 1.3 </font>"
   ]
  },
  {
   "cell_type": "markdown",
   "metadata": {
    "id": "STS4NrQQc6OH"
   },
   "source": [
    " ## <font color='blue'>Gradient clipping</font>"
   ]
  },
  {
   "cell_type": "markdown",
   "metadata": {
    "id": "XY7ivRNzdPok"
   },
   "source": [
    "<b> Check this  <a href='https://towardsdatascience.com/how-to-debug-a-neural-network-with-gradient-checking-41deec0357a9'>blog link</a> for more details on Gradient clipping"
   ]
  },
  {
   "cell_type": "markdown",
   "metadata": {
    "id": "BrsfpDoidtZ5"
   },
   "source": [
    " we know that the derivative of any function is\n",
    " \n",
    " $$\\lim_{\\epsilon\\to0}\\frac{f(x+\\epsilon)-f(x-\\epsilon)}{2\\epsilon}$$\n"
   ]
  },
  {
   "cell_type": "markdown",
   "metadata": {
    "id": "vUcmt0kPd02f"
   },
   "source": [
    "*  The definition above can be used as a numerical approximation of the derivative. Taking an epsilon small enough, the calculated approximation will have an error in the range of epsilon squared. \n",
    "\n",
    "*  In other words, if epsilon is 0.001, the approximation will be off by 0.00001.\n",
    "\n",
    "Therefore, we can use this to approximate the gradient, and in turn make sure that backpropagation is implemented properly. This forms the basis of <b>gradient checking!</b>"
   ]
  },
  {
   "cell_type": "markdown",
   "metadata": {
    "id": "pFSu16KCeU0x"
   },
   "source": [
    "## <Font color='blue'>Gradient checking example</font>"
   ]
  },
  {
   "cell_type": "markdown",
   "metadata": {
    "id": "Gz0mmT_xecfC"
   },
   "source": [
    "<font >\n",
    "lets understand the concept with a simple example:\n",
    "$f(w1,w2,x1,x2)=w_{1}^{2} . x_{1} + w_{2} . x_{2}$ \n",
    "\n",
    "from the above function , lets assume $w_{1}=1$, $w_{2}=2$, $x_{1}=3$, $x_{2}=4$ the gradient of $f$ w.r.t $w_{1}$ is\n",
    "\n",
    "\\begin{array} {lcl}\n",
    "\\frac{df}{dw_{1}} = dw_{1} &=&2.w_{1}.x_{1} \\\\& = &2.1.3\\\\& = &6\n",
    "\\end{array}\n",
    "\n",
    "\n",
    "let calculate the aproximate gradient of $w_{1}$ as mentinoned in the above formula and considering $\\epsilon=0.0001$\n",
    "\n",
    "\\begin{array} {lcl}\n",
    "dw_1^{approx} & = & \\frac{f(w1+\\epsilon,w2,x1,x2)-f(w1-\\epsilon,w2,x1,x2)}{2\\epsilon} \\\\ & = & \\frac{((1+0.0001)^{2} . 3 + 2 . 4) - ((1-0.0001)^{2} . 3 + 2 . 4)}{2\\epsilon} \\\\ & = & \\frac{(1.00020001 . 3 + 2 . 4) - (0.99980001. 3 + 2 . 4)}{2*0.0001} \\\\ & = & \\frac{(11.00060003) - (10.99940003)}{0.0002}\\\\ & = & 5.99999999999\n",
    "\\end{array}\n",
    "\n",
    "Then, we apply the following formula for gradient check: <i>gradient_check</i> = \n",
    "$\\frac{\\left\\Vert\\left (dW-dW^{approx}\\rm\\right) \\right\\Vert_2}{\\left\\Vert\\left (dW\\rm\\right) \\right\\Vert_2+\\left\\Vert\\left (dW^{approx}\\rm\\right) \\right\\Vert_2}$\n",
    "\n",
    "The equation above is basically the Euclidean distance normalized by the sum of the norm of the vectors. We use normalization in case that one of the vectors is very small.\n",
    "As a value for epsilon, we usually opt for 1e-7. Therefore, if gradient check return a value less than 1e-7, then it means that backpropagation was implemented correctly. Otherwise, there is potentially a mistake in your implementation. If the value exceeds 1e-3, then you are sure that the code is not correct.\n",
    "\n",
    "in our example: <i>gradient_check</i> $ = \\frac{(6 - 5.999999999994898)}{(6 + 5.999999999994898)} = 4.2514140356330737e^{-13}$\n",
    "\n",
    "you can mathamatically derive the same thing like this\n",
    "\n",
    "\\begin{array} {lcl}\n",
    "dw_1^{approx} & = & \\frac{f(w1+\\epsilon,w2,x1,x2)-f(w1-\\epsilon,w2,x1,x2)}{2\\epsilon} \\\\ & = & \\frac{((w_{1}+\\epsilon)^{2} . x_{1} + w_{2} . x_{2}) - ((w_{1}-\\epsilon)^{2} . x_{1} + w_{2} . x_{2})}{2\\epsilon} \\\\ & = & \\frac{4. \\epsilon.w_{1}. x_{1}}{2\\epsilon} \\\\ & = &  2.w_{1}.x_{1}\n",
    "\\end{array}\n"
   ]
  },
  {
   "cell_type": "markdown",
   "metadata": {
    "id": "f1BFQQaCermK"
   },
   "source": [
    "## <font color='red'> Implement Gradient checking </font> <br>\n",
    " (Write your code in <font color='blue'> def gradient_checking()</font>)"
   ]
  },
  {
   "cell_type": "markdown",
   "metadata": {
    "id": "GqpfA3AqfJba"
   },
   "source": [
    "**Algorithm** \n",
    "\n"
   ]
  },
  {
   "cell_type": "markdown",
   "metadata": {
    "id": "FL39KeRFfNoD"
   },
   "source": [
    "<pre>\n",
    "<font color='darkblue'>\n",
    "W = initilize_randomly\n",
    "def gradient_checking(data_point, W):<font color='grey'>\n",
    "    # compute the L value using forward_propagation()\n",
    "    # compute the gradients of W using backword_propagation()</font>\n",
    "    approx_gradients = []\n",
    "    for each wi weight value in W:<font color='grey'>\n",
    "        # add a small value to weight wi, and then find the values of L with the updated weights\n",
    "        # subtract a small value to weight wi, and then find the values of L with the updated weights\n",
    "        # compute the approximation gradients of weight wi</font>\n",
    "        approx_gradients.append(approximation gradients of weight wi)<font color='grey'>\n",
    "    # compare the gradient of weights W from backword_propagation() with the aproximation gradients of weights with <br>  gradient_check formula</font>\n",
    "    return gradient_check</font>\n",
    "<b>NOTE: you can do sanity check by checking all the return values of gradient_checking(),<br> they have to be zero. if not you have bug in your code\n",
    "</pre></b>"
   ]
  },
  {
   "cell_type": "code",
   "execution_count": 11,
   "metadata": {
    "id": "XBoJRqAwfTKO"
   },
   "outputs": [],
   "source": [
    "def gradient_checking(x,y,w,eps):\n",
    "    # compute the dict value using forward_propagation()\n",
    "    # compute the actual gradients of W using backword_propagation()\n",
    "    forward_dict=forward_propagation(x,y,w)\n",
    "    backward_dict=backward_propagation(x,y,w,forward_dict)\n",
    "    \n",
    "    #we are storing the original gradients for the given datapoints in a list\n",
    "    \n",
    "    original_gradients_list=list(backward_dict.values())\n",
    "    # make sure that the order is correct i.e. first element in the list corresponds to  dw1 ,second element is dw2 etc.\n",
    "    # you can use reverse function if the values are in reverse order\n",
    "    \n",
    "    approx_gradients_list=[]\n",
    "    \n",
    "     #now we have to write code for approx gradients, here you have to make sure that you update only one weight at a time\n",
    "    for i in range(len(w)):\n",
    "        #ONLY ONE WEIGHT IS UPDATING AT A SINGLE LOOP\n",
    "        w1=w.copy()\n",
    "        w2=w.copy()\n",
    "        w1[i]=w1[i] + eps\n",
    "        plusEpsilon = forward_propagation(x,y,w1)\n",
    "        lossPlus = plusEpsilon['loss']\n",
    "        \n",
    "        w2[i]=w2[i] - eps\n",
    "        negativeEpsilon = forward_propagation(x,y,w2)\n",
    "        lossNegative = negativeEpsilon['loss']\n",
    "        \n",
    "        #approx_value = (lossPlus-lossNegative)/2*eps\n",
    "        approx_gradients_list.append((lossPlus-lossNegative)/(2*eps))\n",
    "        #performing gradient check operation\n",
    "        \n",
    "    numerator =np.linalg.norm(np.array(original_gradients_list)- np.array(approx_gradients_list))\n",
    "    \n",
    "    denominator =np.linalg.norm(np.array(original_gradients_list)+ np.array(approx_gradients_list))\n",
    "    \n",
    "    gradient_check_value = numerator/denominator\n",
    "    #gradient_check_value =(np.array(original_gradients_list)-np.array(approx_gradients_list))/(np.array(original_gradients_list)+np.array(approx_gradients_list))\n",
    "    return gradient_check_value\n",
    "    "
   ]
  },
  {
   "cell_type": "code",
   "execution_count": 12,
   "metadata": {
    "id": "aWSU56GffTKO"
   },
   "outputs": [
    {
     "name": "stdout",
     "output_type": "stream",
     "text": [
      "1.3223581946592619e-09\n"
     ]
    },
    {
     "data": {
      "text/plain": [
       "True"
      ]
     },
     "execution_count": 12,
     "metadata": {},
     "output_type": "execute_result"
    }
   ],
   "source": [
    "def grader_grad_check(value):\n",
    "    print(value)\n",
    "    assert(np.all(value <= 10**-3))\n",
    "    return True \n",
    "\n",
    "w=[ 0.00271756,  0.01260512,  0.00167639, -0.00207756,  0.00720768,\n",
    "   0.00114524,  0.00684168,  0.02242521,  0.01296444]\n",
    "\n",
    "eps=10**-7\n",
    "value= gradient_checking(X[0],y[0],w,eps)\n",
    "\n",
    "#print(value)\n",
    "grader_grad_check(value)"
   ]
  },
  {
   "cell_type": "markdown",
   "metadata": {
    "id": "0ufbFBFfhgL0"
   },
   "source": [
    "# <font color='red'> Task 2 : Optimizers </font>"
   ]
  },
  {
   "cell_type": "markdown",
   "metadata": {
    "id": "7zt05soYh1RM"
   },
   "source": [
    "* As a part of this task, you will be implementing 2  optimizers(methods to update weight)\n",
    "* Use the same computational graph that was mentioned above to do this task\n",
    "* The weights have been initialized from normal distribution with mean=0 and std=0.01. The initialization of weights is very important otherwiswe you can face vanishing gradient and exploding gradients problem."
   ]
  },
  {
   "cell_type": "markdown",
   "metadata": {
    "id": "CAyi7aSAicbr"
   },
   "source": [
    "**Check below video for reference purpose**"
   ]
  },
  {
   "cell_type": "code",
   "execution_count": 13,
   "metadata": {
    "id": "ZogcxiegkQpz"
   },
   "outputs": [],
   "source": [
    "from IPython.display import YouTubeVideo\n",
    "#YouTubeVideo('gYpoJMlgyXA',width=\"1000\",height=\"500\")"
   ]
  },
  {
   "cell_type": "markdown",
   "metadata": {
    "id": "jmefh7ktjbaR"
   },
   "source": [
    "<font color='blue'><b>Algorithm</b>"
   ]
  },
  {
   "cell_type": "markdown",
   "metadata": {
    "id": "nAc4NudkjdNa"
   },
   "source": [
    "<pre>\n",
    "    for each epoch(1-20):\n",
    "        for each data point in your data:\n",
    "            using the functions forward_propagation() and backword_propagation() compute the gradients of weights\n",
    "            update the weigts with help of gradients  \n",
    "</pre>"
   ]
  },
  {
   "cell_type": "markdown",
   "metadata": {
    "id": "_fdmPNqtjm3X"
   },
   "source": [
    "## <font color='red'> Implement below tasks</b>"
   ]
  },
  {
   "cell_type": "markdown",
   "metadata": {
    "id": "Ll9-CRsLjx_D"
   },
   "source": [
    "\n",
    "*  <b>Task 2.1</b>: you will be implementing the above algorithm with <b>Vanilla update</b> of weights<br><br>\n",
    "*  <b>Task 2.2</b>: you will be implementing the above algorithm with <b>Momentum update</b> of weights<br><br>\n",
    "*  <b>Task 2.3</b>: you will be implementing the above algorithm with <b>Adam update</b> of weights<br><br>\n"
   ]
  },
  {
   "cell_type": "markdown",
   "metadata": {
    "id": "atp082demrUR"
   },
   "source": [
    "**Note : If you get any assertion error while running grader functions, please print the variables in grader functions and check which variable is returning False .Recheck your logic for that variable .**"
   ]
  },
  {
   "cell_type": "markdown",
   "metadata": {
    "id": "cv_hZFWalS2z"
   },
   "source": [
    "### <font color='blue'>2.1 Algorithm with Vanilla update of weights</font>"
   ]
  },
  {
   "cell_type": "code",
   "execution_count": 63,
   "metadata": {},
   "outputs": [
    {
     "name": "stdout",
     "output_type": "stream",
     "text": [
      "[-0.01451329  0.00902425 -0.00780801 -0.01799164  0.00558944 -0.02269501\n",
      "  0.01795887  0.00811222 -0.01588065]\n"
     ]
    }
   ],
   "source": [
    "mean_=0\n",
    "std_=0.01\n",
    "\n",
    "w = np.random.normal(mean_,std_,9)\n",
    "#w_new = np.random.normal(0, 0.01, 9)\n",
    "print(w)\n",
    "#print(w_new)"
   ]
  },
  {
   "cell_type": "code",
   "execution_count": 64,
   "metadata": {},
   "outputs": [],
   "source": [
    "X = data[:, :5]\n",
    "y = data[:, -1]"
   ]
  },
  {
   "cell_type": "code",
   "execution_count": 65,
   "metadata": {
    "id": "KlVuEsRjQoW5"
   },
   "outputs": [
    {
     "name": "stdout",
     "output_type": "stream",
     "text": [
      "[12.026235502250184, 8.726151658925192, 6.8579230616969316, 5.627804425178191, 4.820699935438334, 4.303229200218243, 3.977434529496989, 3.77456714837813, 3.6490102038122485, 3.5715524113867283, 3.523847658063279, 3.4944901960292296, 3.4764267537643057, 3.4653080065099022, 3.4584561279164934, 3.4542237650563763, 3.451597866933652, 3.4499554588888723, 3.448913301640784, 3.4482354192203677, 3.447776245972585, 3.447445678969062, 3.447187594850188, 3.446966639674472, 3.4467601004114523, 3.4465528967457666, 3.4463344879634907, 3.446096954337355, 3.4458337979176754, 3.44553918303827, 3.4452074446197267, 3.4448327585899805, 3.4444089094825685, 3.443929115373303, 3.4433858858393185, 3.4427708983013976, 3.442074884243586, 3.4412875208168594, 3.440397326113053, 3.4393915584981474, 3.4382561221746846, 3.436975482829537, 3.435532598961849, 3.4339088763648546, 3.432084155294798, 3.430036742091207, 3.427743499348368, 3.4251800110370696, 3.422320841003305, 3.419139904674239, 3.415610974090547, 3.411708334922991, 3.4074076101507207, 3.4026867577321704, 3.397527238075674, 3.3919153308302916, 3.385843559386483, 3.379312156272098, 3.372330475340052, 3.364918230746457, 3.3571064231869636, 3.3489378067234776, 3.340466760832269, 3.331758466447844, 3.322887342603964, 3.3139347774029786, 3.304986273324508, 3.296128207603248, 3.2874444674137013, 3.27901324362329, 3.2709042495821743, 3.2631765756342364, 3.2558773071057563, 3.2490409400297127, 3.242689541920586, 3.236833537908041, 3.231472962566296, 3.2265990053346405, 3.2221956878999585, 3.2182415379320584, 3.2147111573009193, 3.2115766177238227, 3.2088086480536853, 3.2063776025840003, 3.204254218009038, 3.202410178440042, 3.2008185142069467, 3.199453862386892, 3.1982926163757504, 3.197312989450467, 3.196495014002938, 3.1958204945618807, 3.1952729292481323, 3.194837411157149, 3.1945005184381268, 3.194250199571065, 3.1940756585113297, 3.193967242930499, 3.1939163376758084, 3.1939152647397324, 3.1939571904223945, 3.1940360399343812, 3.1941464193862443, 3.1942835449102107, 3.194443178533701, 3.1946215703521936, 3.194815406515423, 3.195021762533924, 3.1952380614235447, 3.1954620362276644, 3.1956916964856306, 3.1959252982481834, 3.1961613172738894, 3.196398425073814, 3.1966354675035555, 3.196871445631504, 3.1971054986402114, 3.197336888543098, 3.1975649865219955, 3.197789260711806, 3.1980092652776198, 3.1982246306462216, 3.198435054769241, 3.19864029530843, 3.1988401626455905, 3.1990345136302523, 3.1992232459877474, 3.1994062933184715, 3.199583620626869, 3.1997552203250827, 3.1999211086620174, 3.20008132253411, 3.200235916638325, 3.200384960932382, 3.200528538370578, 3.200666742887136, 3.2007996776017134, 3.200927453224412, 3.201050186639879, 3.20116799965231, 3.201281017874807, 3.2013893697483873, 3.2014931856773745, 3.2015925972691672, 3.2016877366677106, 3.201778735970912, 3.2018657267233586, 3.201948839476412, 3.2020282034087284, 3.202103946000668, 3.2021761927570247, 3.202245066972786, 3.2023106895373714, 3.202373178773025, 3.2024326503036646, 3.202489216950815, 3.202542988653448, 3.2025940724090614, 3.202642572233533, 3.2026885891372983, 3.202732221116198, 3.2027735631549263, 3.2028127072414563, 3.2028497423911553, 3.2028847546791015, 3.20291782727959, 3.202949040511628, 3.202978471889623, 3.2030061961782708, 3.2030322854510476, 3.2030568091515605, 3.2030798341571884, 3.2031014248443923, 3.2031216431553777, 3.203140548665679, 3.2031581986521283, 3.203174648161109, 3.2031899500766783, 3.203204155188362, 3.2032173122583667, 3.203229468088135, 3.2032406675839256, 3.20325095382144, 3.2032603681092424, 3.203268950050996, 3.203276737606349, 3.2032837671504804, 3.2032900735321683, 3.2032956901304317, 3.2033006489096114, 3.203304980473051, 3.203308714115102, 3.2033118778716894, 3.203314498569325, 3.203316601872596, 3.2033182123301263, 3.203319353419038, 3.203320047587961, 3.203320316298565, 3.2033201800656625, 3.203319658495936, 3.203318770325263, 3.2033175334547113, 3.2033159649851966, 3.203314081250927, 3.2033118978515693, 3.2033094296831472, 3.203306690967861, 3.2033036952827203, 3.2033004555870517, 3.2032969842489645, 3.2032932930707942, 3.2032893933134576, 3.2032852957199407, 3.2032810105377836, 3.2032765475406575, 3.2032719160490966, 3.2032671249503717, 3.2032621827175314, 3.2032570974276924, 3.2032518767795453, 3.2032465281101183, 3.203241058410923, 3.203235474343298, 3.203229782253209, 3.203223988185349, 3.2032180978967193, 3.2032121168695498, 3.203206050323731, 3.2031999032286538, 3.2031936803146, 3.203187386083631, 3.203181024819937, 3.2031746005998207, 3.2031681173011974, 3.2031615786127023, 3.2031549880424017, 3.20314834892608, 3.2031416644352277, 3.2031349375846223, 3.2031281712396105, 3.2031213681230426, 3.2031145308219267, 3.2031076617937164, 3.2031007633724404, 3.20309383777441, 3.203086887103833, 3.2030799133580135, 3.2030729184324547, 3.2030659041256557, 3.2030588721436515, 3.2030518241044863, 3.203044761542362, 3.203037685911642, 3.2030305985906544, 3.203023500885366, 3.203016394032839, 3.203009279204543, 3.203002157509533, 3.2029950299974845, 3.2029878976615294, 3.20298076144104, 3.202973622224252, 3.2029664808507334, 3.2029593381138266, 3.202952194762842, 3.202945051505305, 3.202937909008949, 3.202930767903766, 3.202923628783813, 3.2029164922090376, 3.202909358706983, 3.202902228774395, 3.2028951028787946, 3.202887981459951, 3.2028808649312768, 3.202873753681157, 3.202866648074267, 3.2028595484527393, 3.2028524551373403, 3.2028453684285916, 3.202838288607793, 3.20283121593804, 3.2028241506651494, 3.2028170930185977, 3.2028100432123465, 3.202803001445688, 3.202795967904031, 3.2027889427596334, 3.202781926172267, 3.202774918289979, 3.202767919249645, 3.202760929177612, 3.20275394819028, 3.2027469763946455, 3.20274001388883, 3.202733060762544, 3.2027261170976096, 3.2027191829683637, 3.202712258442112, 3.202705343579513, 3.202698438434965, 3.2026915430569867, 3.2026846574885486, 3.2026777817674073, 3.202670915926406, 3.2026640599937912, 3.2026572139934713, 3.2026503779452837, 3.202643551865276, 3.2026367357659056, 3.202629929656289, 3.2026231335424074, 3.2026163474273366, 3.2026095713113945, 3.20260280519236, 3.2025960490656185, 3.20258930292436, 3.202582566759717, 3.2025758405608764, 3.202569124315278, 3.2025624180087133, 3.2025557216254468, 3.202549035148339, 3.2025423585589614, 3.2025356918376917, 3.2025290349638227, 3.2025223879156384, 3.202515750670527, 3.2025091232050453, 3.2025025054949925, 3.202495897515507, 3.202489299241101, 3.202482710645744, 3.20247613170294, 3.202469562385754, 3.202463002666897, 3.202456452518742, 3.2024499119133982, 3.2024433808227353, 3.2024368592184724, 3.2024303470721147, 3.2024238443551223, 3.2024173510388514, 3.2024108670946116, 3.2024043924936967, 3.2023979272074303, 3.2023914712071444, 3.202385024464248, 3.202378586950249, 3.202372158636732, 3.202365739495419, 3.202359329498192, 3.20235292861706, 3.20234653682421, 3.2023401540920324, 3.202333780393118, 3.2023274157002377, 3.202321059986416, 3.2023147132248946, 3.202308375389165, 3.2023020464529486, 3.2022957263902305, 3.202289415175259, 3.202283112782549, 3.202276819186876, 3.202270534363296, 3.2022642582871583, 3.2022579909340743, 3.202251732279951, 3.2022454823009854, 3.202239240973657, 3.2022330082747357, 3.2022267841812684, 3.2022205686706213, 3.202214361720434, 3.202208163308656, 3.2022019734135023, 3.2021957920134967, 3.202189619087444, 3.2021834546144445, 3.202177298573875, 3.2021711509454063, 3.2021650117089937, 3.2021588808448698, 3.2021527583335567, 3.2021466441558397, 3.2021405382927806, 3.202134440725715, 3.2021283514362673, 3.2021222704063277, 3.202116197618008, 3.2021101330537327, 3.202104076696164, 3.202098028528207, 3.202091988533036, 3.2020859566940914, 3.2020799329950322, 3.2020739174197703, 3.202067909952459, 3.2020619105775037, 3.2020559192795246, 3.2020499360433807, 3.202043960854156, 3.2020379936971537, 3.2020320345579223, 3.2020260834222083, 3.202020140275973, 3.202014205105401, 3.2020082778968773, 3.2020023586369892, 3.201996447312551, 3.201990543910555, 3.201984648418189, 3.2019787608228443, 3.201972881112107, 3.2019670092737402, 3.2019611452956864, 3.201955289166079, 3.201949440873235, 3.2019436004056447, 3.2019377677519625, 3.201931942901025, 3.201926125841831, 3.2019203165635366, 3.2019145150554835, 3.20190872130714, 3.2019029353081647, 3.201897157048353, 3.201891386517642, 3.2018856237061453, 3.2018798686041157, 3.201874121201924, 3.2018683814901157, 3.201862649459372, 3.2018569251004827, 3.2018512084043986, 3.2018454993622143, 3.2018397979651323, 3.2018341042044973, 3.2018284180717633, 3.2018227395585313, 3.2018170686564895, 3.2018114053574953, 3.201805749653485, 3.201800101536527, 3.201794460998817, 3.2017888280326416, 3.201783202630403, 3.2017775847846064, 3.2017719744878796, 3.201766371732958, 3.201760776512675, 3.2017551888199507, 3.2017496086478228, 3.2017440359894094, 3.2017384708379573, 3.2017329131867758, 3.201727363029289, 3.2017218203590128, 3.201716285169537, 3.201710757454561, 3.2017052372078467, 3.2016997244232686, 3.2016942190947733, 3.2016887212163954, 3.201683230782257, 3.201677747786544, 3.2016722722235444, 3.2016668040875937, 3.2016613433731425, 3.2016558900746865, 3.201650444186815, 3.201645005704187, 3.2016395746215154, 3.2016341509336153, 3.2016287346353556, 3.2016233257216715, 3.2016179241875595, 3.2016125300281004, 3.201607143238428, 3.201601763813752, 3.2015963917493444, 3.201591027040522, 3.201585669682688, 3.2015803196712875, 3.201574977001829, 3.2015696416698844, 3.2015643136710787, 3.20155899300111, 3.201553679655705, 3.201548373630667, 3.201543074921847, 3.201537783525133, 3.201532499436488, 3.2015272226519245, 3.2015219531674948, 3.201516690979313, 3.2015114360835164, 3.2015061884763347, 3.2015009481540067, 3.2014957151128436, 3.201490489349173, 3.201485270859398, 3.201480059639956, 3.2014748556873216, 3.2014696589980116, 3.2014644695685974, 3.2014592873956764, 3.201454112475902, 3.201448944805966, 3.20144378438259, 3.201438631202531, 3.2014334852626063, 3.20142834655965, 3.2014232150905455, 3.201418090852209, 3.201412973841585, 3.20140786405566, 3.2014027614914498, 3.2013976661460246, 3.2013925780164603, 3.2013874970998817, 3.201382423393446, 3.201377356894325, 3.2013722975997343, 3.201367245506919, 3.201362200613165, 3.2013571629157664, 3.2013521324120706, 3.201347109099421, 3.2013420929752083, 3.2013370840368562, 3.2013320822818088, 3.2013270877075355, 3.2013221003115153, 3.2013171200912756, 3.201312147044375, 3.2013071811683735, 3.201302222460848, 3.201297270919415, 3.201292326541726, 3.2012873893254468, 3.2012824592682416, 3.2012775363678068, 3.201272620621887, 3.201267712028215, 3.2012628105845486, 3.2012579162886725, 3.2012530291383885, 3.201248149131516, 3.2012432762659015, 3.201238410539394, 3.2012335519498625, 3.2012287004951854, 3.2012238561732866, 3.201219018982076, 3.201214188919494, 3.2012093659834897, 3.2012045501720374, 3.201199741483117, 3.2011949399147195, 3.2011901454648313, 3.2011853581314935, 3.2011805779127327, 3.2011758048066095, 3.20117103881116, 3.201166279924472, 3.201161528144619, 3.20115678346966, 3.201152045897735, 3.201147315426932, 3.201142592055376, 3.2011378757812126, 3.2011331666025553, 3.2011284645175553, 3.2011237695243624, 3.2011190816211617, 3.201114400806103, 3.201109727077367, 3.201105060433142, 3.201100400871609, 3.2010957483909643, 3.201091102989423, 3.2010864646651673, 3.201081833416417, 3.201077209241392, 3.2010725921383147, 3.2010679821054153, 3.201063379140895, 3.201058783243007, 3.201054194409978, 3.2010496126400434, 3.201045037931464, 3.201040470282463, 3.2010359096912775, 3.201031356156157, 3.2010268096753514, 3.201022270247099, 3.201017737869653, 3.201013212541263, 3.201008694260175, 3.2010041830246374, 3.200999678832897, 3.2009951816831963, 3.2009906915737854, 3.2009862085028993, 3.200981732468788, 3.2009772634697025, 3.200972801503853, 3.200968346569477, 3.2009638986648232, 3.200959457788119, 3.200955023937583, 3.200950597111449, 3.2009461773079075, 3.200941764525197, 3.2009373587615193, 3.200932960015082, 3.2009285682840685, 3.200924183566688, 3.200919805861138, 3.2009154351655944, 3.2009110714782394, 3.2009067147972354, 3.200902365120759, 3.200898022446961, 3.200893686773997, 3.2008893581000137, 3.200885036423138, 3.200880721741511, 3.200876414053253, 3.200872113356486, 3.2008678196493046, 3.2008635329298136, 3.200859253196107, 3.2008549804462567, 3.2008507146783325, 3.2008464558904066, 3.2008422040805184, 3.2008379592467264, 3.200833721387054, 3.2008294904995243, 3.2008252665821497, 3.2008210496329466, 3.2008168396498964, 3.2008126366309675, 3.2008084405741473, 3.200804251477395, 3.2008000693386545, 3.2007958941558594, 3.2007917259269347, 3.200787564649794, 3.200783410322332, 3.200779262942435, 3.2007751225079892, 3.2007709890168368, 3.2007668624668444, 3.2007627428558463, 3.2007586301816606, 3.200754524442098, 3.2007504256349573, 3.2007463337580164, 3.2007422488090476, 3.2007381707858023, 3.2007340996860156, 3.2007300355074233, 3.2007259782477315, 3.2007219279046484, 3.2007178844758504, 3.2007138479589874, 3.2007098183517186, 3.2007057956516887, 3.2007017798565176, 3.2006977709638154, 3.200693768971175, 3.200689773876147, 3.200685785676315, 3.2006818043692062, 3.200677829952356, 3.2006738624232782, 3.2006699017794533, 3.200665948018359, 3.2006620011374616, 3.200658061134203, 3.2006541280060126, 3.2006502017502863, 3.2006462823644344, 3.20064236984581, 3.200638464191795, 3.2006345653997097, 3.2006306734668946, 3.200626788390634, 3.2006229101682253, 3.20061903879693, 3.200615174274011, 3.2006113165967047, 3.2006074657622143, 3.200603621767727, 3.200599784610434, 3.200595954287481, 3.200592130796016, 3.200588314133166, 3.2005845042960193, 3.20058070128167, 3.2005769050871877, 3.2005731157096164, 3.200569333145964, 3.200565557393266, 3.200561788448489, 3.2005580263086046, 3.2005542709705592, 3.2005505224312936, 3.200546780687713, 3.200543045736708, 3.2005393175751395, 3.2005355961998645, 3.2005318816077137, 3.20052817379549, 3.200524472760003, 3.2005207784979945, 3.2005170910062337, 3.200513410281458, 3.2005097363203485, 3.200506069119616, 3.2005024086759373, 3.2004987549859423, 3.200495108046261, 3.2004914678535026, 3.2004878344042536, 3.2004842076950752, 3.2004805877225158, 3.2004769744831054, 3.200473367973347, 3.2004697681897216, 3.200466175128679, 3.200462588786673, 3.2004590091601144, 3.2004554362454085, 3.2004518700389326, 3.2004483105370443, 3.2004447577360744, 3.2004412116323304, 3.200437672222125, 3.2004341395017133, 3.200430613467352, 3.2004270941152755, 3.200423581441674, 3.2004200754427474, 3.20041657611467, 3.2004130834535744, 3.2004095974555695, 3.200406118116775, 3.200402645433267, 3.2003991794010997, 3.2003957200163207, 3.2003922672749345, 3.2003888211729294, 3.2003853817062886, 3.2003819488709637, 3.2003785226628687, 3.2003751030779255, 3.200371690112028, 3.2003682837610157, 3.200364884020757, 3.2003614908870506, 3.200358104355704, 3.2003547244224912, 3.200351351083188, 3.2003479843335167, 3.200344624169203, 3.200341270585913, 3.2003379235793314, 3.2003345831451067, 3.2003312492788574, 3.200327921976196, 3.200324601232716, 3.2003212870439754, 3.2003179794055003, 3.2003146783128296, 3.2003113837614543, 3.2003080957468395, 3.2003048142644546, 3.2003015393097316, 3.2002982708780836, 3.2002950089648867, 3.200291753565532, 3.200288504675351, 3.200285262289671, 3.200282026403813, 3.2002787970130404, 3.200275574112629, 3.20027235769783, 3.2002691477638394, 3.2002659443058574, 3.2002627473190675, 3.20025955679863, 3.2002563727396867, 3.2002531951373427, 3.2002500239866905, 3.200246859282806, 3.20024370102074, 3.2002405491955197, 3.2002374038021473, 3.2002342648356175, 3.2002311322909067, 3.200228006162952, 3.2002248864466853, 3.200221773136994, 3.2002186662287686, 3.2002155657168876, 3.2002124715961844, 3.200209383861471, 3.2002063025075667, 3.200203227529242, 3.20020015892126, 3.2001970966783495, 3.200194040795238, 3.2001909912666333, 3.200187948087196, 3.200184911251606, 3.200181880754496, 3.200178856590483, 3.200175838754144, 3.200172827240082, 3.20016982204285, 3.2001668231569775, 3.2001638305769857, 3.20016084429738, 3.200157864312635, 3.2001548906171973, 3.2001519232055187, 3.2001489620720225, 3.200146007211093, 3.2001430586171127, 3.2001401162844565, 3.2001371802074567, 3.2001342503804273, 3.20013132679768, 3.2001284094534936, 3.200125498342147, 3.2001225934578583, 3.200119694794868, 3.200116802347382, 3.2001139161095855, 3.200111036075654, 3.2001081622397294, 3.200105294595955, 3.2001024331384245, 3.2000995778612413, 3.2000967287584823, 3.2000938858242045, 3.200091049052444, 3.200088218437212, 3.2000853939725262, 3.200082575652374, 3.200079763470693, 3.200076957421454, 3.2000741574985723, 3.200071363695966, 3.2000685760075362, 3.200065794427141, 3.200063018948661, 3.200060249565908, 3.200057486272727, 3.2000547290629044, 3.200051977930243, 3.200049232868504, 3.2000464938714535, 3.200043760932803, 3.2000410340462873, 3.200038313205603, 3.200035598404437, 3.200032889636455, 3.2000301868953107, 3.200027490174628, 3.2000247994680335, 3.2000221147691255, 3.2000194360714933, 3.200016763368685, 3.2000140966542614, 3.2000114359217533, 3.2000087811646902, 3.2000061323765667, 3.200003489550873, 3.2000008526810646, 3.1999982217606076, 3.1999955967829425, 3.199992977741483, 3.1999903646296395, 3.1999877574408, 3.1999851561683466, 3.1999825608056405, 3.199979971346015, 3.199977387782797, 3.199974810109313, 3.1999722383188702, 3.199969672404735, 3.1999671123601803, 3.1999645581784564, 3.1999620098528045, 3.1999594673764524, 3.1999569307426166, 3.199954399944477, 3.1999518749752314, 3.199949355828032, 3.199946842496036, 3.1999443349723786, 3.1999418332501937, 3.1999393373225966, 3.1999368471826517, 3.199934362823469, 3.1999318842381173, 3.1999294114196366, 3.1999269443610614, 3.1999244830554345, 3.1999220274957727, 3.1999195776750686, 3.1999171335863177, 3.1999146952224833, 3.199912262576535, 3.199909835641422, 3.199907414410074, 3.199904998875405, 3.199902589030345, 3.199900184867787, 3.1998977863805944, 3.1998953935616594, 3.1998930064038342, 3.199890624899981, 3.1998882490429166, 3.199885878825466, 3.1998835142404447, 3.1998811552806585, 3.199878801938886, 3.1998764542079, 3.199874112080477, 3.1998717755493535, 3.1998694446072915, 3.199867119246985, 3.199864799461182, 3.1998624852425825, 3.199860176583877, 3.1998578734777534, 3.1998555759168936, 3.199853283893956, 3.1998509974015823, 3.199848716432419, 3.199846440979105, 3.1998441710342487, 3.1998419065904655, 3.199839647640347, 3.199837394176493, 3.1998351461914716, 3.1998329036778688, 3.1998306666282326, 3.19982843503511, 3.199826208891042, 3.199823988188562, 3.1998217729201848, 3.199819563078414, 3.199817358655763, 3.199815159644725, 3.199812966037777, 3.199810777827385, 3.1998085950060235, 3.199806417566151, 3.1998042455002027, 3.199802078800608, 3.1997999174598095, 3.199797761470219, 3.199795610824251, 3.1997934655143245, 3.1997913255328205, 3.199789190872118, 3.199787061524603, 3.1997849374826477, 3.1997828187385875, 3.199780705284808, 3.199778597113653, 3.1997764942174465, 3.1997743965885164, 3.1997723042192, 3.199770217101817, 3.199768135228659, 3.1997660585920285, 3.1997639871842254, 3.1997619209975294, 3.199759860024226, 3.1997578042565813, 3.199755753686862, 3.199753708307336, 3.199751668110259, 3.1997496330878623, 3.1997476032323924, 3.1997455785360644, 3.199743558991111, 3.1997415445897706, 3.1997395353242397, 3.199737531186731]\n"
     ]
    }
   ],
   "source": [
    "from sklearn.metrics import mean_squared_error \n",
    "learning_rate =0.001\n",
    "LvInVanilla=[]\n",
    "epochInVanilla =[]\n",
    "\n",
    "for i in range(1000):\n",
    "    epochInVanilla.append(i)\n",
    "    y_pred=[]\n",
    "    for point in range(len(data)):\n",
    "        forward_dict=forward_propagation(X[point],y[point],w)\n",
    "        backward_dict=backward_propagation(X[point],y[point],w,forward_dict)\n",
    "        y_pred.append(forward_dict['dy_pred'])\n",
    "        w[0]=w[0]-learning_rate*backward_dict[\"dw1\"]\n",
    "        w[1]=w[1]-learning_rate*backward_dict[\"dw2\"]\n",
    "        w[2]=w[2]-learning_rate*backward_dict[\"dw3\"]\n",
    "        w[3]=w[3]-learning_rate*backward_dict[\"dw4\"]\n",
    "        w[4]=w[4]-learning_rate*backward_dict[\"dw5\"]\n",
    "        w[5]=w[5]-learning_rate*backward_dict[\"dw6\"]\n",
    "        w[6]=w[6]-learning_rate*backward_dict[\"dw7\"]\n",
    "        w[7]=w[7]-learning_rate*backward_dict[\"dw8\"]\n",
    "        w[8]=w[8]-learning_rate*backward_dict[\"dw9\"]\n",
    "    loss=mean_squared_error(y,y_pred)\n",
    "    LvInVanilla.append(loss)\n",
    "    \n",
    "print(LvInVanilla)\n",
    "#print(epochInVanilla)\n",
    "\n",
    "#for _ in range(n_iter):\n",
    "#        diff = -learn_rate * gradient(vector)\n",
    "#        vector += diff\n",
    "#        return vector"
   ]
  },
  {
   "cell_type": "code",
   "execution_count": 17,
   "metadata": {
    "id": "HuDaxRnCQoW5"
   },
   "outputs": [],
   "source": [
    "#print(dict(zip(epochInVanilla,LvInVanilla)))"
   ]
  },
  {
   "cell_type": "code",
   "execution_count": 66,
   "metadata": {},
   "outputs": [
    {
     "data": {
      "text/plain": [
       "<matplotlib.legend.Legend at 0x161ed6dd040>"
      ]
     },
     "execution_count": 66,
     "metadata": {},
     "output_type": "execute_result"
    },
    {
     "data": {
      "image/png": "[encoded data removed]",
      "text/plain": [
       "<Figure size 576x432 with 1 Axes>"
      ]
     },
     "metadata": {
      "needs_background": "light"
     },
     "output_type": "display_data"
    }
   ],
   "source": [
    "import matplotlib.pyplot as plt\n",
    "plt.figure(figsize=(8,6))\n",
    "plt.grid()\n",
    "plt.plot(epochInVanilla,LvInVanilla, label=' loss')\n",
    "plt.title(\"Per Epoch Loss\")\n",
    "plt.xlabel(\"Epoch\")\n",
    "plt.ylabel(\"Loss\")\n",
    "plt.legend()"
   ]
  },
  {
   "cell_type": "markdown",
   "metadata": {},
   "source": [
    "## Loss is almost stangant after 175 epoch so let's run the above code for 175 epoch"
   ]
  },
  {
   "cell_type": "code",
   "execution_count": 67,
   "metadata": {},
   "outputs": [
    {
     "data": {
      "text/plain": [
       "<matplotlib.legend.Legend at 0x161ee852160>"
      ]
     },
     "execution_count": 67,
     "metadata": {},
     "output_type": "execute_result"
    },
    {
     "data": {
      "image/png": "[encoded data removed]",
      "text/plain": [
       "<Figure size 576x432 with 1 Axes>"
      ]
     },
     "metadata": {
      "needs_background": "light"
     },
     "output_type": "display_data"
    }
   ],
   "source": [
    "import matplotlib.pyplot as plt\n",
    "plt.figure(figsize=(8,6))\n",
    "plt.grid()\n",
    "plt.plot(epochInVanilla[:174],LvInVanilla[:174], label=' loss')\n",
    "plt.title(\"Per Epoch Loss\")\n",
    "plt.xlabel(\"Epoch\")\n",
    "plt.ylabel(\"Loss\")\n",
    "plt.legend()"
   ]
  },
  {
   "cell_type": "code",
   "execution_count": null,
   "metadata": {},
   "outputs": [],
   "source": [
    "\n"
   ]
  },
  {
   "cell_type": "markdown",
   "metadata": {
    "id": "V4RWWrZ7lWap"
   },
   "source": [
    "### <font color='blue'>2.2 Algorithm with Momentum update of weights</font>"
   ]
  },
  {
   "cell_type": "markdown",
   "metadata": {
    "id": "oM2BAasL6zz4"
   },
   "source": [
    "<img src='https://i.imgur.com/gyPSXhS.png'>"
   ]
  },
  {
   "cell_type": "code",
   "execution_count": 60,
   "metadata": {},
   "outputs": [
    {
     "name": "stdout",
     "output_type": "stream",
     "text": [
      "[11.855575779140802, 8.59216755345249, 6.763335321530481, 5.564127237112324, 4.779507419544311, 4.277291148763896, 3.96136108187141, 3.7646981050015307, 3.6429865769027123, 3.5678947762138917, 3.521641081691286, 3.4931729984608406, 3.4756555807068703, 3.4648735960759494, 3.458231318711309, 3.4541315958196233, 3.4515920699367317, 3.4500085580636206, 3.4490093635578796, 3.448365646537757, 3.4479363062509245, 3.4476340930275917, 3.44740477260907, 3.4472143125030636, 3.4470409972691867, 3.4468705713181214, 3.4466932405126904, 3.446501814233924, 3.4462905463613094, 3.4460544037044243, 3.445788594943771, 3.4454882573747625, 3.4451482382430516, 3.4447629317654873, 3.4443261479248584, 3.4438309984239317, 3.443269791014139, 3.442633927154431, 3.441913800462951, 3.4410986952351736, 3.4401766857608522, 3.439134538500234, 3.4379576205285414, 3.436629819126887, 3.435133479055238, 3.433449365924373, 3.4315566661910224, 3.4294330365921977, 3.427054718210194, 3.424396732639473, 3.421433179627184, 3.4181376566698902, 3.41448382081401, 3.4104461106203283, 3.4060006410864, 3.401126275399634, 3.39580586393924, 3.3900276225060266, 3.3837865985263704, 3.37708614716097, 3.369939311436887, 3.3623699758749823, 3.354413647197236, 3.3461177149113963, 3.337541064645989, 3.3287529613714053, 3.3198311870121198, 3.310859500600578, 3.3019245765595344, 3.293112651847702, 3.284506159716146, 3.2761806356054057, 3.2682021464907294, 3.260625425428838, 3.2534928024335343, 3.2468339287966974, 3.24066621087039, 3.2349958122737297, 3.2298190548214762, 3.2251240462737845, 3.2208923811151817, 3.2171007910566956, 3.21372265722966, 3.21072933017371, 3.2080912329284503, 3.2057787450485904, 3.2037628809464676, 3.202015785377717, 3.200511073357019, 3.1992240426650422, 3.198131785613286, 3.1972132238715245, 3.1964490866806705, 3.195821849183179, 3.1953156442213926, 3.194916157953723, 3.1946105170896346, 3.1943871734511466, 3.1942357898989404, 3.1941471303611118, 3.1941129557144134, 3.194125926533728, 3.1941795131928465, 3.194267913424051, 3.194385977187793, 3.1945291385369874, 3.194693354058936, 3.1948750474237837, 3.195071059547256, 3.1952786038767793, 3.1954952263262646, 3.195718769410326, 3.195947340159267, 3.1961792814291274, 3.1964131462545886, 3.196647674925211, 3.196881774496599, 3.1971145004771833, 3.1973450404581127, 3.197572699478367, 3.1977968869393556, 3.1980171049032586, 3.198232937627507, 3.198444042203776, 3.1986501401842298, 3.1988510100905967, 3.1990464807129957, 3.199236425115565, 3.1994207552748835, 3.1995994172852447, 3.199772387071892, 3.199939666559477, 3.200101280248926, 3.2002572721604903, 3.200407703105469, 3.200552648252835, 3.200692194960737, 3.20082644084564, 3.20095549206497, 3.2010794617914518, 3.2011984688595954, 3.201312636566725, 3.201422091612836, 3.2015269631650254, 3.2016273820337258, 3.201723479949332, 3.2018153889287553, 3.2019032407227153, 3.201987166335287, 3.2020672956081975, 3.2021437568630526, 3.2022166765953894, 3.2022861792149797, 3.2023523868274397, 3.2024154190526484, 3.2024753928759404, 3.2025324225284306, 3.202586619393195, 3.202638091934331, 3.2026869456462776, 3.20273328302095, 3.2027772035305824, 3.2028188036243717, 3.2028581767370614, 3.2028954133080743, 3.2029306008096174, 3.2029638237826425, 3.20299516387947, 3.2030246999120955, 3.2030525079052263, 3.203078661153313, 3.2031032302808318, 3.2031262833051457, 3.2031478857014464, 3.203168100469202, 3.20318698819973, 3.2032046071444173, 3.2032210132833625, 3.203236260394037, 3.2032504001196895, 3.203263482037378, 3.203275553725309, 3.2032866608293626, 3.2032968471286427, 3.2033061545999733, 3.2033146234811256, 3.2033222923327918, 3.2033291980992464, 3.203335376167452, 3.2033408604248486, 3.203345683315583, 3.2033498758951624, 3.2033534678836353, 3.2033564877172322, 3.2033589625983785, 3.203360918544216, 3.203362380433672, 3.2033633720527845, 3.203363916138756, 3.2033640344223904, 3.203363747669126, 3.2033630757186304, 3.2033620375229885, 3.2033606511835093, 3.203358933986229, 3.2033569024360826, 3.2033545722897983, 3.2033519585875627, 3.203349075683499, 3.203345937274968, 3.2033425564306954, 3.203338945617885, 3.2033351167281627, 3.203331081102577, 3.2033268495555873, 3.2033224323980285, 3.203317839459224, 3.2033130801081606, 3.2033081632737854, 3.2033030974645067, 3.2032978907868634, 3.2032925509634045, 3.2032870853498694, 3.2032815009515905, 3.203275804439243, 3.2032700021639156, 3.2032641001715523, 3.203258104216745, 3.2032520197759933, 3.2032458520603466, 3.2032396060274744, 3.2032332863933197, 3.203226897643149, 3.2032204440421617, 3.2032139296456448, 3.2032073583086116, 3.203200733695129, 3.2031940592871777, 3.2031873383930702, 3.2031805741556005, 3.2031737695597586, 3.2031669274401056, 3.20316005048785, 3.203153141257604, 3.2031462021738264, 3.20313923553694, 3.2031322435292346, 3.2031252282204927, 3.203118191573324, 3.2031111354482973, 3.2031040616087987, 3.203096971725702, 3.203089867381822, 3.203082750076161, 3.203075621227961, 3.203068482180557, 3.2030613342050636, 3.2030541785038857, 3.2030470162140925, 3.2030398484106097, 3.203032676109248, 3.203025500269633, 3.203018321798001, 3.2030111415497946, 3.203003960332201, 3.2029967789065794, 3.2029895979907086, 3.202982418261011, 3.2029752403546197, 3.2029680648713357, 3.20296089237554, 3.202953723398005, 3.202946558437542, 3.2029393979627323, 3.202932242413405, 3.202925092202135, 3.2029179477156626, 3.2029108093162306, 3.2029036773428525, 3.2028965521125485, 3.2028894339214733, 3.202882323046037, 3.2028752197439356, 3.2028681242551826, 3.2028610368030175, 3.202853957594822, 3.202846886822962, 3.2028398246656415, 3.202832771287642, 3.2028257268410765, 3.202818691466086, 3.2028116652914997, 3.2028046484354786, 3.2027976410060863, 3.202790643101902, 3.202783654812525, 3.202776676219138, 3.2027697073949386, 3.202762748405644, 3.2027557993099056, 3.2027488601597467, 3.202741931000965, 3.202735011873469, 3.2027281028116774, 3.202721203844839, 3.2027143149973454, 3.202707436289071, 3.2027005677356093, 3.2026937093485994, 3.2026868611359136, 3.202680023101989, 3.2026731952479945, 3.202666377572094, 3.2026595700696086, 3.2026527727332446, 3.2026459855532825, 3.202639208517743, 3.2026324416125314, 3.2026256848216295, 3.2026189381272347, 3.20261220150989, 3.2026054749486192, 3.202598758421058, 3.202592051903556, 3.2025853553713186, 3.2025786687984765, 3.202571992158193, 3.2025653254227686, 3.202558668563735, 3.2025520215519205, 3.202545384357524, 3.202538756950176, 3.20253213929906, 3.2025255313729395, 3.2025189331401958, 3.2025123445689094, 3.2025057656269085, 3.2024991962818605, 3.202492636501231, 3.2024860862524025, 3.202479545502667, 3.202473014219284, 3.202466492369526, 3.202459979920688, 3.202453476840137, 3.2024469830953124, 3.2024404986537904, 3.202434023483288, 3.202427557551674, 3.202421100826991, 3.2024146532775055, 3.202408214871675, 3.20240178557822, 3.2023953653661064, 3.2023889542045376, 3.202382552063015, 3.202376158911309, 3.202369774719505, 3.2023633994579623, 3.202357033097388, 3.2023506756087725, 3.2023443269634506, 3.2023379871330713, 3.2023316560896453, 3.202325333805477, 3.202319020253255, 3.202312715405992, 3.202306419237038, 3.202300131720094, 3.202293852829217, 3.2022875825388204, 3.2022813208236407, 3.2022750676587837, 3.202268823019689, 3.2022625868821617, 3.202256359222351, 3.202250140016721, 3.2022439292421105, 3.202237726875681, 3.202231532894928, 3.202225347277711, 3.202219170002199, 3.2022130010468897, 3.202206840390628, 3.2022006880125646, 3.2021945438921833, 3.202188408009269, 3.202182280343929, 3.202176160876589, 3.202170049587966, 3.2021639464590987, 3.202157851471315, 3.202151764606249, 3.2021456858458106, 3.2021396151722064, 3.2021335525679167, 3.2021274980157166, 3.202121451498659, 3.2021154130000484, 3.2021093825034836, 3.202103359992815, 3.202097345452131, 3.202091338865813, 3.2020853402184835, 3.202079349495005, 3.2020733666804926, 3.202067391760291, 3.2020614247200028, 3.2020554655454494, 3.2020495142226735, 3.202043570737954, 3.202037635077806, 3.2020317072289237, 3.2020257871782554, 3.202019874912944, 3.2020139704203334, 3.2020080736879803, 3.2020021847036357, 3.2019963034552616, 3.2019904299310036, 3.2019845641191873, 3.2019787060083424, 3.2019728555871714, 3.201967012844563, 3.201961177769579, 3.2019553503514633, 3.2019495305796206, 3.2019437184436517, 3.201937913933269, 3.2019321170383974, 3.2019263277490975, 3.2019205460555993, 3.2019147719482777, 3.201909005417666, 3.2019032464544366, 3.2018974950494155, 3.2018917511935654, 3.2018860148779944, 3.2018802860939526, 3.2018745648328357, 3.201868851086157, 3.2018631448455506, 3.201857446102808, 3.2018517548498235, 3.201846071078648, 3.201840394781414, 3.201834725950395, 3.201829064577993, 3.2018234106567234, 3.2018177641791934, 3.2018121251381317, 3.2018064935264023, 3.2018008693369415, 3.2017952525628197, 3.2017896431971966, 3.2017840412333425, 3.201778446664621, 3.2017728594844996, 3.2017672796865493, 3.2017617072644415, 3.2017561422119227, 3.201750584522832, 3.2017450341911227, 3.2017394912108195, 3.201733955576057, 3.201728427281033, 3.201722906320035, 3.2017173926874385, 3.2017118863776974, 3.201706387385366, 3.201700895705043, 3.201695411331434, 3.2016899342593184, 3.201684464483538, 3.2016790019990173, 3.2016735468007687, 3.2016680988838506, 3.201662658243408, 3.2016572248746367, 3.2016517987728337, 3.2016463799333494, 3.201640968351586, 3.2016355640230274, 3.2016301669432137, 3.201624777107758, 3.2016193945123286, 3.201614019152645, 3.2016086510245136, 3.2016032901237823, 3.2015979364463374, 3.2015925899881585, 3.201587250745271, 3.201581918713747, 3.201576593889714, 3.201571276269361, 3.2015659658489377, 3.2015606626247086, 3.2015553665930323, 3.2015500777503045, 3.2015447960929495, 3.2015395216174634, 3.2015342543203764, 3.201528994198284, 3.20152374124781, 3.201518495465631, 3.201513256848468, 3.2015080253930814, 3.20150280109628, 3.2014975839549202, 3.2014923739658916, 3.2014871711261197, 3.2014819754325847, 3.201476786882294, 3.201471605472297, 3.201466431199698, 3.2014612640616185, 3.201456104055215, 3.201450951177698, 3.201445805426302, 3.2014406667983004, 3.201435535291008, 3.201430410901762, 3.201425293627927, 3.2014201834669276, 3.2014150804162047, 3.2014099844732122, 3.201404895635453, 3.2013998139004665, 3.2013947392658135, 3.201389671729096, 3.201384611287923, 3.2013795579399607, 3.201374511682853, 3.201369472514333, 3.201364440432132, 3.20135941543399, 3.2013543975177003, 3.201349386681076, 3.2013443829219357, 3.201339386238144, 3.2013343966275714, 3.201329414088141, 3.201324438617765, 3.2013194702143926, 3.201314508875991, 3.2013095546005546, 3.201304607386098, 3.2012996672306593, 3.2012947341322695, 3.2012898080890233, 3.2012848890990053, 3.201279977160311, 3.201275072271084, 3.201270174429469, 3.201265283633615, 3.201260399881713, 3.2012555231719473, 3.201250653502537, 3.201245790871716, 3.2012409352777, 3.2012360867187724, 3.2012312451932012, 3.2012264106992485, 3.2012215832352378, 3.2012167627994708, 3.2012119493902675, 3.2012071430059614, 3.2012023436449084, 3.2011975513054756, 3.201192765986022, 3.201187987684931, 3.2011832164005902, 3.2011784521314186, 3.2011736948758096, 3.2011689446321827, 3.2011642013989867, 3.2011594651746575, 3.201154735957626, 3.2011500137463478, 3.201145298539286, 3.2011405903349224, 3.201135889131727, 3.2011311949281778, 3.2011265077227753, 3.2011218275139988, 3.2011171543003667, 3.2011124880803727, 3.201107828852519, 3.2011031766153173, 3.2010985313673035, 3.2010938931069925, 3.2010892618329088, 3.2010846375435817, 3.2010800202375456, 3.2010754099133334, 3.201070806569488, 3.2010662102045373, 3.201061620817012, 3.2010570384054757, 3.20105246296846, 3.2010478945045007, 3.2010433330121644, 3.2010387784899863, 3.2010342309364863, 3.2010296903502335, 3.2010251567297625, 3.201020630073621, 3.201016110380345, 3.201011597648474, 3.2010070918765274, 3.201002593063057, 3.2009981012065993, 3.200993616305668, 3.2009891383588034, 3.200984667364517, 3.2009802033213366, 3.2009757462277832, 3.2009712960823653, 3.2009668528835826, 3.2009624166299493, 3.2009579873199616, 3.2009535649521146, 3.200949149524884, 3.20094474103676, 3.2009403394862272, 3.2009359448717607, 3.20093155719181, 3.200927176444828, 3.200922802629298, 3.200918435743643, 3.2009140757862853, 3.200909722755692, 3.200905376650277, 3.2009010374684306, 3.2008967052085757, 3.2008923798691056, 3.200888061448429, 3.2008837499448997, 3.2008794453569043, 3.200875147682803, 3.2008708569209565, 3.200866573069704, 3.200862296127374, 3.200858026092301, 3.2008537629628098, 3.2008495067371867, 3.20084525741372, 3.200841014990699, 3.200836779466399, 3.2008325508390802, 3.200828329106995, 3.2008241142683747, 3.200819906321448, 3.2008157052644224, 3.2008115110955107, 3.200807323812899, 3.2008031434147566, 3.2007989698992487, 3.2007948032645452, 3.200790643508763, 3.200786490630029, 3.2007823446264636, 3.2007782054961664, 3.2007740732372127, 3.2007699478476823, 3.2007658293256314, 3.2007617176691023, 3.2007576128761195, 3.2007535149447, 3.2007494238728467, 3.200745339658539, 3.2007412622997444, 3.2007371917944147, 3.2007331281405094, 3.2007290713359353, 3.20072502137861, 3.200720978266429, 3.2007169419972397, 3.200712912568922, 3.2007088899793272, 3.2007048742262962, 3.2007008653076205, 3.2006968632211144, 3.200692867964525, 3.2006888795356376, 3.2006848979322013, 3.200680923151934, 3.200676955192547, 3.2006729940517458, 3.2006690397271966, 3.200665092216564, 3.200661151517504, 3.2006572176276267, 3.2006532905445315, 3.2006493702658134, 3.2006454567890343, 3.2006415501117664, 3.2006376502315392, 3.200633757145869, 3.2006298708522403, 3.2006259913481467, 3.2006221186310455, 3.2006182526983626, 3.2006143935475286, 3.200610541175958, 3.2006066955810324, 3.2006028567601144, 3.2005990247105527, 3.2005951994296575, 3.2005913809147613, 3.2005875691631465, 3.200583764172079, 3.200579965938806, 3.200576174460561, 3.2005723897345497, 3.200568611757958, 3.200564840527959, 3.200561076041707, 3.2005573182963376, 3.2005535672889467, 3.200549823016623, 3.2005460854764447, 3.2005423546654566, 3.200538630580694, 3.2005349132191734, 3.200531202577859, 3.200527498653722, 3.200523801443717, 3.20052011094477, 3.200516427153782, 3.200512750067621, 3.200509079683174, 3.2005054159972786, 3.200501759006761, 3.200498108708407, 3.200494465099002, 3.2004908281753086, 3.2004871979340503, 3.200483574371946, 3.2004799574856904, 3.2004763472719757, 3.200472743727437, 3.2004691468487065, 3.2004655566323885, 3.2004619730750807, 3.200458396173337, 3.2004548259237033, 3.2004512623227104, 3.200447705366853, 3.200444155052618, 3.2004406113764694, 3.200437074334832, 3.200433543924123, 3.2004300201407356, 3.2004265029810335, 3.200422992441374, 3.200419488518083, 3.2004159912074757, 3.2004125005058324, 3.2004090164094117, 3.200405538914455, 3.2004020680171683, 3.200398603713778, 3.2003951460004463, 3.2003916948733258, 3.2003882503285412, 3.2003848123622034, 3.200381380970416, 3.200377956149228, 3.200374537894684, 3.2003711262028087, 3.2003677210696093, 3.2003643224910525, 3.200360930463106, 3.200357544981698, 3.2003541660427506, 3.200350793642147, 3.200347427775745, 3.200344068439408, 3.200340715628955, 3.200337369340195, 3.2003340295688885, 3.200330696310813, 3.2003273695617036, 3.2003240493172767, 3.200320735573223, 3.2003174283252167, 3.2003141275689106, 3.2003108332999215, 3.20030754551387, 3.200304264206339, 3.20030098937289, 3.2002977210090653, 3.2002944591103795, 3.200291203672342, 3.200287954690411, 3.2002847121600557, 3.2002814760767073, 3.2002782464357766, 3.200275023232659, 3.200271806462703, 3.200268596121283, 3.2002653922037116, 3.200262194705294, 3.2002590036213254, 3.2002558189470567, 3.2002526406777276, 3.2002494688085474, 3.2002463033347275, 3.2002431442514427, 3.200239991553841, 3.200236845237066, 3.200233705296236, 3.2002305717264288, 3.200227444522733, 3.200224323680188, 3.200221209193812, 3.2002181010586184, 3.2002149992696047, 3.200211903821738, 3.200208814709958, 3.200205731929182, 3.200202655474328, 3.2001995853402714, 3.2001965215218866, 3.2001934640140144, 3.2001904128114633, 3.2001873679090247, 3.2001843293015146, 3.200181296983663, 3.2001782709502353, 3.200175251195923, 3.2001722377154485, 3.200169230503487, 3.2001662295546915, 3.2001632348637084, 3.2001602464251566, 3.200157264233638, 3.2001542882837186, 3.2001513185699846, 3.200148355086946, 3.200145397829136, 3.200142446791066, 3.2001395019671968, 3.2001365633520056, 3.2001336309399337, 3.200130704725394, 3.2001277847027976, 3.2001248708665355, 3.200121963210959, 3.200119061730414, 3.2001161664192206, 3.2001132772717136, 3.2001103942821563, 3.200107517444829, 3.2001046467539864, 3.2001017822038533, 3.200098923788639, 3.200096071502548, 3.2000932253397445, 3.200090385294406, 3.200087551360659, 3.2000847235326204, 3.2000819018043924, 3.2000790861700557, 3.200076276623691, 3.2000734731593377, 3.2000706757710407, 3.200067884452793, 3.20006509919859, 3.2000623200024094, 3.2000595468582023, 3.2000567797599317, 3.200054018701509, 3.200051263676842, 3.200048514679809, 3.200045771704296, 3.200043034744137, 3.200040303793183, 3.2000375788452535, 3.200034859894153, 3.200032146933648, 3.200029439957521, 3.200026738959525, 3.200024043933388, 3.200021354872826, 3.2000186717715544, 3.200015994623241, 3.200013323421569, 3.2000106581601795, 3.2000079988327137, 3.200005345432795, 3.2000026979540133, 3.2000000563899667, 3.1999974207342223, 3.199994790980334, 3.1999921671218443, 3.19998954915229, 3.1999869370651575, 3.199984330853936, 3.19998173051213, 3.1999791360331815, 3.199976547410539, 3.1999739646376444, 3.1999713877079055, 3.1999688166147204, 3.1999662513514715, 3.199963691911541, 3.199961138288282, 3.1999585904750454, 3.1999560484651415, 3.199953512251881, 3.1999509818285743, 3.1999484571885106, 3.1999459383249476, 3.1999434252311425, 3.199940917900325, 3.199938416325745, 3.1999359205006006, 3.199933430418084, 3.1999309460713894, 3.1999284674536916, 3.199925994558147, 3.1999235273778988, 3.199921065906079, 3.1999186101357955, 3.19991616006017, 3.1999137156722783, 3.199911276965199, 3.1999088439320027, 3.199906416565754, 3.1999039948594756, 3.199901578806197, 3.199899168398922, 3.1998967636306723, 3.1998943644944267, 3.199891970983155, 3.1998895830898264, 3.1998872008073977, 3.1998848241288114, 3.1998824530469805, 3.199880087554833, 3.199877727645263, 3.199875373311177, 3.1998730245454365, 3.1998706813409177, 3.1998683436904813, 3.1998660115869795, 3.199863685023239, 3.1998613639920777, 3.1998590484863207, 3.1998567384987555, 3.1998544340221837, 3.1998521350493743, 3.199849841573106, 3.1998475535861286, 3.1998452710811827, 3.199842994051016, 3.199840722488361, 3.199838456385918, 3.199836195736409, 3.1998339405325074, 3.1998316907669038, 3.199829446432287, 3.199827207521324, 3.199824974026657, 3.1998227459409283, 3.1998205232567947, 3.1998183059668666, 3.199816094063753, 3.1998138875400732, 3.1998116863884314, 3.1998094906014174, 3.199807300171598, 3.199805115091541, 3.199802935353831, 3.199800760950999, 3.1997985918756005, 3.1997964281201794, 3.199794269677247, 3.1997921165393315, 3.199789968698933, 3.1997878261485644, 3.19978568888071, 3.1997835568878674, 3.199781430162506, 3.199779308697107, 3.199777192484113, 3.199775081515993, 3.1997729757851916, 3.199770875284136, 3.199768780005266, 3.1997666899410087, 3.1997646050837796, 3.19976252542599, 3.1997604509600377, 3.1997583816783073, 3.199756317573187, 3.1997542586370793, 3.1997522048623472]\n"
     ]
    }
   ],
   "source": [
    "from sklearn.metrics import mean_squared_error \n",
    "learning_rate =0.001\n",
    "mean_=0\n",
    "std_=0.01\n",
    "\n",
    "w = np.random.normal(mean_,std_,9)\n",
    "\n",
    "LvInMomentum=[]\n",
    "epochInMomentum =[]\n",
    "gamma=0.001\n",
    "for i in range(1000):\n",
    "    epochInMomentum.append(i)\n",
    "    y_pred=[]\n",
    "    for point in range(len(data)):\n",
    "        forward_dict=forward_propagation(X[point],y[point],w)\n",
    "        backward_dict=backward_propagation(X[point],y[point],w,forward_dict)\n",
    "        y_pred.append(forward_dict['dy_pred'])\n",
    "        v0 = gamma*0 + learning_rate*backward_dict[\"dw1\"]\n",
    "        w[0]=w[0]-v0\n",
    "        v1 = gamma*v0 + learning_rate*backward_dict[\"dw2\"]\n",
    "        w[1]=w[1]-v1\n",
    "        v2 = gamma*v1 + learning_rate*backward_dict[\"dw3\"]\n",
    "        w[2]=w[2]-v2\n",
    "        v3 = gamma*v2 + learning_rate*backward_dict[\"dw4\"]\n",
    "        w[3]=w[3]-v3\n",
    "        v4 = gamma*v3 + learning_rate*backward_dict[\"dw5\"]\n",
    "        w[4]=w[4]-v4\n",
    "        v5 = gamma*v4 + learning_rate*backward_dict[\"dw6\"]\n",
    "        w[5]=w[5]-v5\n",
    "        v6 = gamma*v5 + learning_rate*backward_dict[\"dw7\"]\n",
    "        w[6]=w[6]-v6\n",
    "        v7 = gamma*v6 + learning_rate*backward_dict[\"dw8\"]\n",
    "        w[7]=w[7]-v7\n",
    "        v8 = gamma*v7 + learning_rate*backward_dict[\"dw9\"]\n",
    "        w[8]=w[8]-v8\n",
    "        \n",
    "    loss=mean_squared_error(y,y_pred)\n",
    "    LvInMomentum.append(loss)\n",
    "    \n",
    "print(LvInMomentum)\n",
    "#print(epochInVanilla)\n",
    "\n",
    "#for _ in range(n_iter):\n",
    "#        diff = -learn_rate * gradient(vector)\n",
    "#        vector += diff\n",
    "#        return vector"
   ]
  },
  {
   "cell_type": "markdown",
   "metadata": {
    "id": "2iCc4sIE-4A-"
   },
   "source": [
    "Here Gamma referes to the momentum coefficient, eta is leaning rate and v_t is moving average of our gradients at timestep t"
   ]
  },
  {
   "cell_type": "code",
   "execution_count": 61,
   "metadata": {},
   "outputs": [
    {
     "data": {
      "text/plain": [
       "<matplotlib.legend.Legend at 0x161ed6bf9a0>"
      ]
     },
     "execution_count": 61,
     "metadata": {},
     "output_type": "execute_result"
    },
    {
     "data": {
      "image/png": "[encoded data removed]",
      "text/plain": [
       "<Figure size 576x432 with 1 Axes>"
      ]
     },
     "metadata": {
      "needs_background": "light"
     },
     "output_type": "display_data"
    }
   ],
   "source": [
    "import matplotlib.pyplot as plt\n",
    "plt.figure(figsize=(8,6))\n",
    "plt.grid()\n",
    "plt.plot(epochInMomentum,LvInMomentum, label=' loss')\n",
    "plt.title(\"Per Epoch Loss\")\n",
    "plt.xlabel(\"Epoch\")\n",
    "plt.ylabel(\"Loss\")\n",
    "plt.legend()"
   ]
  },
  {
   "cell_type": "code",
   "execution_count": 62,
   "metadata": {},
   "outputs": [
    {
     "data": {
      "text/plain": [
       "<matplotlib.legend.Legend at 0x161ed57dbb0>"
      ]
     },
     "execution_count": 62,
     "metadata": {},
     "output_type": "execute_result"
    },
    {
     "data": {
      "image/png": "[encoded data removed]",
      "text/plain": [
       "<Figure size 576x432 with 1 Axes>"
      ]
     },
     "metadata": {
      "needs_background": "light"
     },
     "output_type": "display_data"
    }
   ],
   "source": [
    "import matplotlib.pyplot as plt\n",
    "plt.figure(figsize=(8,6))\n",
    "plt.grid()\n",
    "plt.plot(epochInMomentum[:174],LvInMomentum[:174], label=' loss')\n",
    "plt.title(\"Per Epoch Loss\")\n",
    "plt.xlabel(\"Epoch\")\n",
    "plt.ylabel(\"Loss\")\n",
    "plt.legend()"
   ]
  },
  {
   "cell_type": "markdown",
   "metadata": {
    "id": "Agtmr_lZQoW6"
   },
   "source": [
    "### <font color='blue'>2.3 Algorithm with Adam update of weights</font>"
   ]
  },
  {
   "cell_type": "markdown",
   "metadata": {
    "id": "WRYiT2KKQoW6"
   },
   "source": [
    "<img src='https://i.imgur.com/GDR8UFP.jpg'>"
   ]
  },
  {
   "cell_type": "code",
   "execution_count": 73,
   "metadata": {},
   "outputs": [],
   "source": [
    "mean=[0.0 for _ in range(data.shape[0])]\n",
    "variance=[0.0 for _ in range(data.shape[0])]\n",
    "#print(mean)\n",
    "#print(variance)\n",
    "mean_=0\n",
    "std_=0.01\n",
    "\n",
    "w = np.random.normal(mean_,std_,9)"
   ]
  },
  {
   "cell_type": "code",
   "execution_count": 74,
   "metadata": {},
   "outputs": [
    {
     "name": "stdout",
     "output_type": "stream",
     "text": [
      "[0.6432106640469625, 0.13010633987989975, 0.026893225267827447, 0.10448066316881174, 0.07697194862894755, 0.024133871581361325, 0.018168286095100333, 0.018096529284142383, 0.007948051327050717, 0.004351217760684326, 0.007522695174958948, 0.008970066172227996, 0.007158722861133719, 0.004958539533024579, 0.003810517239636915, 0.0030690230963786517, 0.0023348484260371587, 0.002079889392160732, 0.002469964467279119, 0.0029702292415607133, 0.003081223789411406, 0.002771151343960511, 0.0022486633800836197, 0.001697467363077264, 0.0012278570641555938, 0.0008966775538975777, 0.0007072749211667353, 0.0006186752712716201, 0.0005775661781039646, 0.0005452722703856659, 0.0005027268304365214, 0.0004440911717734407, 0.0003721692891124109, 0.00029601008309616014, 0.00022678539497174725, 0.00017279236946528344, 0.00013685642692165542, 0.00011687964972318827, 0.00010790633554123399, 0.00010426208321037795, 0.00010123244710965392, 9.602881550543084e-05, 8.791254777718594e-05, 7.767795458665119e-05, 6.688507159859308e-05, 5.712852909270461e-05, 4.948287674437663e-05, 4.422139484598776e-05, 4.086077646589058e-05, 3.8471443355459555e-05, 3.6090635728761797e-05, 3.306245572095728e-05, 2.919634046331088e-05, 2.4728458745866013e-05, 2.0145370373207677e-05, 1.5963811157938175e-05, 1.2551909515021332e-05, 1.0040603764089663e-05, 8.33192566866331e-06, 7.1789208126048185e-06, 6.295700519011167e-06, 5.45536142690262e-06, 4.54585988497657e-06, 3.574048425943975e-06, 2.6280274413838957e-06, 1.8204197872914582e-06, 1.236854210422136e-06, 9.064745202433218e-07, 7.995139352651226e-07, 8.462124569523278e-07, 9.65234866330101e-07, 1.0893053915867563e-06, 1.1797858960958708e-06, 1.2279025954591542e-06, 1.245676527430049e-06, 1.252551960602652e-06, 1.2637382549831214e-06, 1.2840732036486509e-06, 1.3081455889864518e-06, 1.3248504877717799e-06, 1.3233381880045853e-06, 1.2975792445979298e-06, 1.2480335778227526e-06, 1.1804423731928356e-06, 1.1028998978265932e-06, 1.0227627523715933e-06, 9.446408605807498e-07, 8.699840822399598e-07, 7.98019633204736e-07, 7.273160341767253e-07, 6.571733380082154e-07, 5.883017075271001e-07, 5.226666081049717e-07, 4.62746520645631e-07, 4.106325735459089e-07, 3.6736850363002375e-07, 3.3274633700186195e-07, 3.05546739909783e-07, 2.840436171634031e-07, 2.665341543534905e-07, 2.517046750498504e-07, 2.387535400007766e-07, 2.2730523446246584e-07, 2.1721899976816185e-07, 2.084043245085057e-07, 2.0071666322921347e-07, 1.9394887587668247e-07, 1.8788646185999715e-07, 1.823750263795954e-07, 1.7735751341399307e-07, 1.7286484945592407e-07, 1.6897061532841645e-07, 1.6573576864937643e-07, 1.6316911032575892e-07, 1.6121704352833543e-07, 1.5978050984998715e-07, 1.5874571663803917e-07, 1.5801246076915232e-07, 1.575088142208911e-07, 1.5718964491982e-07, 1.570241471830254e-07, 1.5698107322842792e-07, 1.5701914852110705e-07, 1.5708592592611054e-07, 1.571237302774521e-07, 1.570785230652799e-07, 1.5690728832129127e-07, 1.5658133623372746e-07, 1.5608539591586482e-07, 1.5541421586526338e-07, 1.5456893347915384e-07, 1.5355481954966888e-07, 1.5238078673479831e-07, 1.5106000317265548e-07, 1.4961052837180488e-07, 1.4805512318794505e-07, 1.4641998807596585e-07, 1.4473276318212478e-07, 1.430204056296631e-07, 1.4130748802093863e-07, 1.396151699064614e-07, 1.379607846429341e-07, 1.3635781212573393e-07, 1.3481601376838263e-07, 1.3334162652810344e-07, 1.3193764150452013e-07, 1.306042479629954e-07, 1.2933948607351506e-07, 1.281400596275354e-07, 1.2700217598384543e-07, 1.259222522948082e-07, 1.2489736556214028e-07, 1.239254050557444e-07, 1.2300496918862873e-07, 1.221351021901863e-07, 1.2131497681784688e-07, 1.2054360677631803e-07, 1.1981963618136174e-07, 1.1914122140898024e-07, 1.1850600163991159e-07, 1.179111469608516e-07, 1.173534704626898e-07, 1.1682958763400429e-07, 1.1633610106004114e-07, 1.1586978359869243e-07, 1.1542773266229665e-07, 1.150074740203025e-07, 1.1460700455050486e-07, 1.1422477607456448e-07, 1.1385963287222142e-07, 1.1351072114963631e-07, 1.1317738932893862e-07, 1.1285909491757962e-07, 1.125553289161656e-07, 1.1226556380312194e-07, 1.1198922683876458e-07, 1.1172569686312321e-07, 1.1147431985681123e-07, 1.1123443641058388e-07, 1.1100541322014203e-07, 1.107866710922165e-07, 1.1057770369624506e-07, 1.1037808403131299e-07, 1.1018745858892157e-07, 1.1000553176366494e-07, 1.0983204467738724e-07, 1.0966675306541615e-07, 1.0950940835672578e-07, 1.0935974487928188e-07, 1.0921747460003224e-07, 1.0908228928767957e-07, 1.0895386870784783e-07, 1.088318925957741e-07, 1.087160537829811e-07, 1.086060699987062e-07, 1.0850169244032839e-07, 1.0840271005759836e-07, 1.0830894942533546e-07, 1.0822027089414332e-07, 1.0813656226258161e-07, 1.0805773144018877e-07, 1.0798369948207783e-07, 1.0791439503861005e-07, 1.0784975079398406e-07, 1.077897019656862e-07, 1.0773418650898901e-07, 1.0768314637982559e-07, 1.0763652909133444e-07, 1.0759428885347292e-07, 1.0755638677732649e-07, 1.0752278989944137e-07, 1.074934690726506e-07, 1.0746839601693337e-07, 1.0744753998218398e-07, 1.0743086452515492e-07, 1.0741832484943045e-07, 1.074098660256733e-07, 1.074054222344227e-07, 1.0740491699823741e-07, 1.0740826422533281e-07, 1.0741536979761282e-07, 1.074261334111723e-07, 1.0744045040976988e-07, 1.0745821342691687e-07, 1.0747931374766339e-07, 1.0750364238993517e-07, 1.0753109097668813e-07, 1.0756155250226323e-07, 1.0759492209906766e-07, 1.076310978797871e-07, 1.0766998188354759e-07, 1.0771148110398488e-07, 1.0775550853285242e-07, 1.0780198412893097e-07, 1.0785083561525252e-07, 1.0790199902443564e-07, 1.0795541894105782e-07, 1.0801104842621267e-07, 1.0806884864601398e-07, 1.08128788252783e-07, 1.0819084258456424e-07, 1.0825499275220223e-07, 1.0832122467667636e-07, 1.083895281247388e-07, 1.08459895776649e-07, 1.0853232234264989e-07, 1.0860680373647473e-07, 1.0868333630848609e-07, 1.0876191614207759e-07, 1.0884253841990956e-07, 1.0892519687188594e-07, 1.0900988331969478e-07, 1.0909658733397687e-07, 1.0918529601629952e-07, 1.0927599391394692e-07, 1.0936866306488366e-07, 1.0946328316434938e-07, 1.0955983183511029e-07, 1.0965828497897798e-07, 1.0975861718393145e-07, 1.0986080216178094e-07, 1.099648131931554e-07, 1.1007062356000418e-07, 1.1017820695094417e-07, 1.1028753782726938e-07, 1.1039859174151813e-07, 1.1051134560258968e-07, 1.1062577788360588e-07, 1.1074186876923976e-07, 1.1085960024166191e-07, 1.1097895610602153e-07, 1.1109992195700341e-07, 1.112224850927302e-07, 1.1134663438197603e-07, 1.1147236009479531e-07, 1.1159965370643556e-07, 1.1172850768637611e-07, 1.1185891528335882e-07, 1.119908703159937e-07, 1.1212436697876836e-07, 1.1225939966915032e-07, 1.1239596284189641e-07, 1.1253405089250823e-07, 1.1267365807217369e-07, 1.1281477843324182e-07, 1.1295740580496754e-07, 1.1310153379589503e-07, 1.1324715582067204e-07, 1.1339426514682311e-07, 1.1354285495689717e-07, 1.136929184220501e-07, 1.1384444878050663e-07, 1.1399743941792431e-07, 1.1415188394354063e-07, 1.1430777625995526e-07, 1.1446511062172414e-07, 1.1462388168241761e-07, 1.1478408452740639e-07, 1.1494571469328106e-07, 1.1510876817380262e-07, 1.1527324141335513e-07, 1.1543913129031799e-07, 1.1560643509196951e-07, 1.1577515048270089e-07, 1.1594527546934141e-07, 1.1611680836411903e-07, 1.162897477487497e-07, 1.164640924407849e-07, 1.1663984146404816e-07, 1.1681699402419307e-07, 1.1699554949010403e-07, 1.1717550738151395e-07, 1.1735686736284322e-07, 1.1753962924203454e-07, 1.1772379297489018e-07, 1.1790935867246548e-07, 1.1809632661166981e-07, 1.182846972470581e-07, 1.1847447122279393e-07, 1.1866564938406903e-07, 1.1885823278694537e-07, 1.19052222705757e-07, 1.1924762063743706e-07, 1.1944442830354554e-07, 1.1964264764837256e-07, 1.1984228083461736e-07, 1.2004333023634278e-07, 1.2024579842981772e-07, 1.2044968818272322e-07, 1.2065500244260383e-07, 1.208617443246909e-07, 1.2106991710026784e-07, 1.2127952418549768e-07, 1.2149056913149094e-07, 1.2170305561528646e-07, 1.2191698743335513e-07, 1.2213236849525276e-07, 1.2234920281999216e-07, 1.2256749453244531e-07, 1.2278724786173738e-07, 1.2300846713939924e-07, 1.232311567985207e-07, 1.2345532137212626e-07, 1.236809654918304e-07, 1.2390809388539927e-07, 1.241367113734937e-07, 1.2436682286575034e-07, 1.2459843335532746e-07, 1.2483154791250437e-07, 1.250661716776343e-07, 1.2530230985263012e-07, 1.2553996769215928e-07, 1.25779150494278e-07, 1.2601986359050539e-07, 1.2626211233606348e-07, 1.2650590209991743e-07, 1.2675123825520752e-07, 1.2699812616974727e-07, 1.2724657119739058e-07, 1.27496578669159e-07, 1.2774815388523097e-07, 1.280013021071741e-07, 1.2825602855033028e-07, 1.285123383764145e-07, 1.2877023668638176e-07, 1.2902972851290649e-07, 1.2929081881278088e-07, 1.295535124594413e-07, 1.2981781423470184e-07, 1.300837288203927e-07, 1.3035126078965527e-07, 1.3062041459777657e-07, 1.3089119457255075e-07, 1.311636049047062e-07, 1.3143764963780762e-07, 1.3171333265794268e-07, 1.3199065768359747e-07, 1.3226962825522816e-07, 1.325502477249082e-07, 1.3283251924630872e-07, 1.3311644576421643e-07, 1.334020300047749e-07, 1.336892744654709e-07, 1.3397818140548275e-07, 1.342687528359049e-07, 1.345609905103701e-07, 1.3485489591558474e-07, 1.3515047026173927e-07, 1.3544771447315094e-07, 1.357466291789792e-07, 1.3604721470346664e-07, 1.3634947105666173e-07, 1.3665339792475202e-07, 1.3695899466060892e-07, 1.3726626027400197e-07, 1.375751934221893e-07, 1.378857924002227e-07, 1.3819805513120825e-07, 1.3851197915713318e-07, 1.3882756162912284e-07, 1.3914479929845434e-07, 1.3946368850708828e-07, 1.3978422517879555e-07, 1.40106404810088e-07, 1.404302224617217e-07, 1.4075567274973178e-07, 1.4108274983731312e-07, 1.4141144742628916e-07, 1.417417587489117e-07, 1.4207367656004084e-07, 1.424071931288494e-07, 1.4274230023148666e-07, 1.4307898914297632e-07, 1.434172506298686e-07, 1.4375707494295793e-07, 1.440984518097213e-07, 1.4444137042733512e-07, 1.447858194557416e-07, 1.4513178701086262e-07, 1.454792606579041e-07, 1.45828227404751e-07, 1.4617867369591322e-07, 1.4653058540638812e-07, 1.468839478357357e-07, 1.4723874570229422e-07, 1.4759496313813547e-07, 1.479525836831121e-07, 1.483115902804595e-07, 1.4867196527165924e-07, 1.490336903916466e-07, 1.493967467645974e-07, 1.4976111489964974e-07, 1.50126774686939e-07, 1.5049370539364523e-07, 1.5086188566046028e-07, 1.5123129349832888e-07, 1.5160190628510328e-07, 1.5197370076289593e-07, 1.5234665303517558e-07, 1.5272073856420466e-07, 1.5309593216912797e-07, 1.5347220802372073e-07, 1.5384953965474708e-07, 1.5422789994055581e-07, 1.5460726110973182e-07, 1.5498759474005459e-07, 1.5536887175795415e-07, 1.5575106243795925e-07, 1.5613413640221161e-07, 1.565180626210011e-07, 1.5690280941257385e-07, 1.5728834444397846e-07, 1.5767463473191154e-07, 1.580616466436171e-07, 1.584493458982727e-07, 1.5883769756888977e-07, 1.5922666608392345e-07, 1.596162152296201e-07, 1.600063081523768e-07, 1.6039690736176868e-07, 1.6078797473317955e-07, 1.6117947151155925e-07, 1.6157135831472559e-07, 1.6196359513734617e-07, 1.6235614135544254e-07, 1.6274895573052816e-07, 1.6314199641461347e-07, 1.6353522095540493e-07, 1.6392858630136442e-07, 1.643220488081221e-07, 1.6471556424371603e-07, 1.6510908779560608e-07, 1.6550257407686884e-07, 1.658959771333557e-07, 1.6628925045107926e-07, 1.666823469636679e-07, 1.670752190602354e-07, 1.6746781859378595e-07, 1.6786009688960186e-07, 1.682520047541226e-07, 1.6864349248444956e-07, 1.6903450987722422e-07, 1.694250062390729e-07, 1.6981493039628447e-07, 1.702042307055435e-07, 1.7059285506461273e-07, 1.7098075092346698e-07, 1.7136786529543113e-07, 1.7175414476923904e-07, 1.721395355207959e-07, 1.7252398332571205e-07, 1.7290743357161922e-07, 1.732898312712687e-07, 1.7367112107580117e-07, 1.7405124728812567e-07, 1.7443015387678713e-07, 1.748077844901391e-07, 1.7518408247043648e-07, 1.7555899086879633e-07, 1.7593245245990103e-07, 1.7630440975719906e-07, 1.766748050283448e-07, 1.7704358031089759e-07, 1.7741067742838286e-07, 1.7777603800626473e-07, 1.7813960348835753e-07, 1.7850131515360894e-07, 1.7886111413274734e-07, 1.7921894142563684e-07, 1.795747379181101e-07, 1.7992844439988472e-07, 1.8028000158164408e-07, 1.8062935011349013e-07, 1.8097643060242748e-07, 1.8132118363065085e-07, 1.8166354977392501e-07, 1.82003469619791e-07, 1.823408837863363e-07, 1.8267573294050086e-07, 1.8300795781723705e-07, 1.833374992379605e-07, 1.8366429812990382e-07, 1.8398829554515536e-07, 1.8430943267914264e-07, 1.8462765089019397e-07, 1.8494289171882916e-07, 1.8525509690655245e-07, 1.855642084153179e-07, 1.8587016844675208e-07, 1.8617291946130196e-07, 1.8647240419743982e-07, 1.8676856569085646e-07, 1.8706134729348003e-07, 1.8735069269277627e-07, 1.8763654593048218e-07, 1.8791885142164786e-07, 1.8819755397369976e-07, 1.8847259880504303e-07, 1.887439315637338e-07, 1.8901149834582622e-07, 1.8927524571424123e-07, 1.8953512071657436e-07, 1.8979107090365175e-07, 1.9004304434703994e-07, 1.9029098965738087e-07, 1.9053485600164447e-07, 1.9077459312066812e-07, 1.9101015134665547e-07, 1.9124148162011516e-07, 1.9146853550644882e-07, 1.9169126521296047e-07, 1.919096236051389e-07, 1.9212356422280915e-07, 1.9233304129596172e-07, 1.9253800976083335e-07, 1.9273842527505928e-07, 1.9293424423287788e-07, 1.931254237800773e-07, 1.933119218288929e-07, 1.9349369707205904e-07, 1.9367070899718104e-07, 1.9384291790048648e-07, 1.9401028490046876e-07, 1.9417277195086213e-07, 1.943303418539831e-07, 1.94482958273461e-07, 1.9463058574616627e-07, 1.947731896948754e-07, 1.9491073643958573e-07, 1.9504319320953927e-07, 1.9517052815408665e-07, 1.9529271035350426e-07, 1.9540970983007353e-07, 1.955214975582422e-07, 1.9562804547421128e-07, 1.9572932648614345e-07, 1.9582531448370893e-07, 1.9591598434693772e-07, 1.9600131195519334e-07, 1.960812741956097e-07, 1.9615584897194673e-07, 1.9622501521191023e-07, 1.9628875287527066e-07, 1.963470429613491e-07, 1.963998675159364e-07, 1.9644720963868357e-07, 1.9648905348928627e-07, 1.9652538429432302e-07, 1.9655618835316453e-07, 1.9658145304412238e-07, 1.9660116682950225e-07, 1.9661531926156394e-07, 1.9662390098775957e-07, 1.9662690375524766e-07, 1.9662432041580604e-07, 1.9661614493064782e-07, 1.9660237237378778e-07, 1.9658299893680004e-07, 1.9655802193234743e-07, 1.965274397978012e-07, 1.9649125209865287e-07, 1.9644945953152298e-07, 1.9640206392726608e-07, 1.963490682534563e-07, 1.9629047661717526e-07, 1.9622629426725028e-07, 1.961565275962671e-07, 1.9608118414241562e-07, 1.9600027259140729e-07, 1.9591380277773497e-07, 1.9582178568610638e-07, 1.9572423345238136e-07, 1.956211593647211e-07, 1.955125778637833e-07, 1.953985045434958e-07, 1.952789561513011e-07, 1.951539505877593e-07, 1.950235069067903e-07, 1.948876453148389e-07, 1.9474638717035806e-07, 1.9459975498303104e-07, 1.9444777241234754e-07, 1.9429046426619402e-07, 1.9412785649954682e-07, 1.939599762120148e-07, 1.937868516460703e-07, 1.9360851218430248e-07, 1.93424988346654e-07, 1.9323631178766903e-07, 1.9304251529288028e-07, 1.9284363277518009e-07, 1.9263969927120264e-07, 1.92430750936452e-07, 1.922168250414245e-07, 1.9199795996615766e-07, 1.9177419519517325e-07, 1.915455713119273e-07, 1.9131212999263162e-07, 1.9107391399984487e-07, 1.9083096717633003e-07, 1.9058333443729688e-07, 1.903310617633289e-07, 1.900741961923918e-07, 1.8981278581138072e-07, 1.89546879747831e-07, 1.8927652816065636e-07, 1.890017822302914e-07, 1.8872269414944868e-07, 1.8843931711215727e-07, 1.8815170530331103e-07, 1.8785991388728066e-07, 1.875639989961784e-07, 1.8726401771816992e-07, 1.8696002808436871e-07, 1.8665208905589398e-07, 1.863402605110135e-07, 1.8602460323039277e-07, 1.8570517888348386e-07, 1.853820500132591e-07, 1.8505528002112711e-07, 1.8472493315120637e-07, 1.8439107447423432e-07, 1.840537698712347e-07, 1.8371308601584152e-07, 1.8336909035751203e-07, 1.8302185110343823e-07, 1.8267143720026165e-07, 1.823179183152622e-07, 1.8196136481766732e-07, 1.8160184775859057e-07, 1.8123943885181553e-07, 1.8087421045287279e-07, 1.8050623553888847e-07, 1.801355876875826e-07, 1.7976234105551182e-07, 1.7938657035703018e-07, 1.7900835084183405e-07, 1.7862775827293133e-07, 1.7824486890404845e-07, 1.7785975945651445e-07, 1.7747250709654238e-07, 1.770831894116619e-07, 1.7669188438696148e-07, 1.762986703815153e-07, 1.7590362610428498e-07, 1.7550683059006039e-07, 1.7510836317463302e-07, 1.7470830347081952e-07, 1.7430673134343134e-07, 1.7390372688478362e-07, 1.734993703897206e-07, 1.7309374233109972e-07, 1.7268692333399536e-07, 1.7227899415129682e-07, 1.7187003563861206e-07, 1.714601287293729e-07, 1.7104935440976256e-07, 1.7063779369382085e-07, 1.7022552759854986e-07, 1.6981263711905235e-07, 1.693992032043036e-07, 1.6898530673227846e-07, 1.6857102848570572e-07, 1.6815644912795772e-07, 1.6774164917915082e-07, 1.6732670899194768e-07, 1.6691170872868183e-07, 1.6649672833753533e-07, 1.6608184752987577e-07, 1.656671457574043e-07, 1.652527021899292e-07, 1.6483859569300763e-07, 1.6442490480654158e-07, 1.6401170772352387e-07, 1.635990822686016e-07, 1.6318710587813687e-07, 1.627758555795754e-07, 1.6236540797216746e-07, 1.619558392075557e-07, 1.6154722497102243e-07, 1.611396404633013e-07, 1.60733160382696e-07, 1.6032785890787098e-07, 1.5992380968130713e-07, 1.5952108579262797e-07, 1.5911975976358219e-07, 1.5871990353250844e-07, 1.5832158843975724e-07, 1.5792488521422746e-07, 1.5752986395947886e-07, 1.5713659414151405e-07, 1.5674514457627763e-07, 1.5635558341813262e-07, 1.5596797814897884e-07, 1.5558239556830556e-07, 1.5519890178311954e-07, 1.5481756219903493e-07, 1.5443844151194712e-07, 1.5406160370035888e-07, 1.5368711201801962e-07, 1.53315028987733e-07, 1.5294541639547875e-07, 1.525783352850944e-07, 1.5221384595382894e-07, 1.5185200794830548e-07, 1.5149288006151027e-07, 1.5113652032982334e-07, 1.5078298603124287e-07, 1.5043233368392648e-07, 1.500846190452135e-07, 1.4973989711171881e-07, 1.4939822211956715e-07, 1.490596475454355e-07, 1.487242261079938e-07, 1.483920097703016e-07, 1.4806304974224837e-07, 1.4773739648402864e-07, 1.47415099709763e-07, 1.470962083918264e-07, 1.4678077076572245e-07, 1.4646883433525892e-07, 1.4616044587835435e-07, 1.4585565145325944e-07, 1.4555449640536607e-07, 1.4525702537410637e-07, 1.4496328230050878e-07, 1.446733104350233e-07, 1.4438715234597847e-07, 1.4410484992799846e-07, 1.438264444108566e-07, 1.4355197636877901e-07, 1.4328148573003735e-07, 1.4301501178656962e-07, 1.427525932039284e-07, 1.4249426803161828e-07, 1.4224007371323036e-07, 1.4199004709721723e-07, 1.417442244475453e-07, 1.415026414541028e-07, 1.41265333243708e-07, 1.4103233439103528e-07, 1.4080367892960976e-07, 1.4057940036226932e-07, 1.4035953167217736e-07, 1.401441053334853e-07, 1.3993315332188733e-07, 1.3972670712520684e-07, 1.3952479775344606e-07, 1.3932745574890749e-07, 1.3913471119592679e-07, 1.3894659373050693e-07, 1.3876313254911914e-07, 1.385843564177739e-07, 1.3841029368011453e-07, 1.3824097226577247e-07, 1.380764196972621e-07, 1.3791666309704806e-07, 1.377617291939882e-07, 1.376116443285475e-07, 1.3746643445842435e-07, 1.3732612516249485e-07, 1.371907416441585e-07, 1.3706030873443955e-07, 1.3693485089363023e-07, 1.3681439221223018e-07, 1.3669895641118642e-07, 1.3658856684039908e-07, 1.364832464772406e-07, 1.3638301792292e-07, 1.3628790339832683e-07, 1.361979247386411e-07, 1.3611310338608045e-07, 1.3603346038202235e-07, 1.3595901635751962e-07, 1.3588979152211811e-07, 1.3582580565145282e-07, 1.357670780731491e-07, 1.3571362765122465e-07, 1.3566547276874535e-07, 1.3562263130880003e-07, 1.355851206334945e-07, 1.355529575613736e-07, 1.355261583428752e-07, 1.3550473863363183e-07, 1.354887134660779e-07, 1.3547809721864064e-07, 1.354729035832333e-07, 1.354731455299099e-07, 1.3547883527013538e-07, 1.3548998421711204e-07, 1.35506602944179e-07, 1.3552870114048208e-07, 1.3555628756483435e-07, 1.3558936999648452e-07, 1.3562795518380784e-07, 1.3567204879051366e-07, 1.3572165533912197e-07, 1.3577677815207e-07, 1.3583741929032026e-07, 1.3590357948925936e-07, 1.3597525809214274e-07, 1.3605245298087885e-07, 1.3613516050473613e-07, 1.3622337540611582e-07, 1.3631709074395274e-07, 1.3641629781495836e-07, 1.365209860722216e-07, 1.3663114304193246e-07, 1.367467542376155e-07, 1.3686780307246796e-07, 1.3699427076979333e-07, 1.3712613627129793e-07, 1.372633761443886e-07, 1.3740596448732427e-07, 1.3755387283348574e-07, 1.37707070054288e-07, 1.3786552226153358e-07, 1.3802919270883495e-07, 1.3819804169297247e-07, 1.3837202645521846e-07, 1.385511010826298e-07, 1.3873521641053336e-07, 1.389243199253122e-07, 1.3911835566944614e-07, 1.3931726414761292e-07, 1.3952098223565741e-07, 1.3972944309203488e-07, 1.3994257607257428e-07, 1.4016030664937906e-07, 1.403825563336944e-07, 1.406092426041982e-07, 1.4084027884035643e-07, 1.4107557426292215e-07, 1.4131503388050145e-07, 1.4155855844428163e-07, 1.418060444109915e-07, 1.4205738391499344e-07, 1.423124647504147e-07, 1.4257117036360596e-07, 1.4283337985713526e-07, 1.430989680065499e-07, 1.4336780528954198e-07, 1.4363975792948123e-07, 1.439146879532043e-07, 1.4419245326457553e-07, 1.4447290773468838e-07, 1.4475590130823636e-07, 1.4504128012865043e-07, 1.4532888668124724e-07, 1.4561855995564604e-07, 1.4591013562827594e-07, 1.462034462653636e-07, 1.4649832154639164e-07, 1.4679458850979618e-07, 1.470920718198521e-07, 1.473905940561364e-07, 1.4768997602498672e-07, 1.4799003709353215e-07, 1.4829059554634125e-07, 1.4859146896404784e-07, 1.488924746241455e-07, 1.491934299233539e-07, 1.4949415282121816e-07, 1.4979446230394206e-07, 1.5009417886763975e-07, 1.5039312502030485e-07, 1.506911258010363e-07, 1.5098800931505063e-07, 1.5128360728303754e-07, 1.5157775560349668e-07, 1.5187029492557538e-07, 1.521610712306225e-07, 1.5244993642029004e-07, 1.527367489086823e-07, 1.5302137421594815e-07, 1.5330368556069645e-07, 1.535835644484265e-07, 1.5386090125280023e-07, 1.5413559578707176e-07, 1.5440755786211786e-07, 1.5467670782821362e-07, 1.549429770970673e-07, 1.5520630864093908e-07, 1.554666574656161e-07, 1.5572399105403053e-07, 1.559782897773526e-07, 1.5622954727033593e-07, 1.564777707683367e-07, 1.5672298140286235e-07, 1.5696521445337442e-07, 1.5720451955283894e-07, 1.5744096084483701e-07, 1.576746170905405e-07, 1.5790558172378973e-07, 1.581339628533334e-07, 1.583598832113039e-07, 1.5858348004685273e-07, 1.5880490496586857e-07, 1.5902432371597621e-07, 1.5924191591812564e-07, 1.594578747457479e-07, 1.5967240655242784e-07, 1.5988573045093208e-07, 1.6009807784475765e-07, 1.603096919155058e-07, 1.6052082706904922e-07, 1.607317483437107e-07, 1.6094273078371566e-07, 1.6115405878307117e-07, 1.6136602540272454e-07, 1.6157893166670573e-07, 1.6179308584128944e-07, 1.6200880270246584e-07, 1.622264027970618e-07, 1.6244621170226334e-07, 1.6266855928985632e-07, 1.6289377900011135e-07, 1.6312220713148819e-07, 1.6335418215174235e-07, 1.635900440366174e-07, 1.6383013364198002e-07, 1.6407479211576077e-07, 1.6432436035546703e-07, 1.6457917851809828e-07, 1.6483958558789096e-07, 1.6510591900923276e-07, 1.6537851439016508e-07, 1.6565770528283116e-07, 1.65943823047094e-07, 1.6623719680290614e-07, 1.6653815347665093e-07, 1.6684701794679998e-07, 1.6716411329218562e-07, 1.674897611472782e-07, 1.6782428216537728e-07, 1.6816799659147163e-07, 1.685212249427308e-07, 1.6888428879443064e-07, 1.6925751166516504e-07, 1.6964121999363802e-07, 1.7003574419553893e-07, 1.7044141978620298e-07, 1.7085858855093407e-07, 1.712875997413236e-07, 1.717288112719818e-07, 1.721825908886343e-07, 1.7264931727427402e-07, 1.7312938105808332e-07, 1.7362318568733436e-07, 1.741311481213608e-07, 1.7465369930389725e-07, 1.7519128436920323e-07, 1.7574436253601333e-07, 1.7631340664193865e-07, 1.7689890227004407e-07, 1.775013464158171e-07, 1.7812124563845238e-07, 1.7875911363259613e-07, 1.794154681437977e-07, 1.8009082713373195e-07]\n"
     ]
    }
   ],
   "source": [
    "from sklearn.metrics import mean_squared_error \n",
    "learning_rate =0.001\n",
    "beta1=0.90\n",
    "beta2=0.99\n",
    "epsilion=1e-8\n",
    "LossInAdam=[]\n",
    "epochInAdam=[]\n",
    "\n",
    "\n",
    "#gamma=0.001\n",
    "for i in range(1000):\n",
    "    epochInAdam.append(i)\n",
    "    y_pred=[]\n",
    "    loss=[]\n",
    "    for point in range(len(data)):\n",
    "        forward_dict=forward_propagation(X[point],y[point],w)\n",
    "        backward_dict=backward_propagation(X[point],y[point],w,forward_dict)\n",
    "        y_pred.append(forward_dict['dy_pred'])\n",
    "        \n",
    "        grads = np.array(list(backward_dict.values()))\n",
    "        \n",
    "        mean[point]=beta1*mean[point]+(1-beta1)*grads\n",
    "        mean_update =mean[point]/(1-(beta1)**(point+1))\n",
    "        \n",
    "        variance[point]=beta2*variance[point]+((1-beta2)*(grads**2))\n",
    "        variance_update =variance[point]/(1-(beta2)**(point+1))\n",
    "        \n",
    "        w-=((learning_rate)/((np.sqrt(variance_update))+epsilion))*mean_update\n",
    "        loss.append(forward_dict['loss'])\n",
    "    \n",
    "    LossInAdam.append(sum(loss)/len(loss))\n",
    "    \n",
    "print(LossInAdam)\n",
    "#print(epochInVanilla)\n",
    "\n",
    "#for _ in range(n_iter):\n",
    "#        diff = -learn_rate * gradient(vector)\n",
    "#        vector += diff\n",
    "#        return vector"
   ]
  },
  {
   "cell_type": "code",
   "execution_count": 68,
   "metadata": {
    "id": "0YffVQ2LQoW6"
   },
   "outputs": [
    {
     "data": {
      "text/plain": [
       "'\\n\\nfrom sklearn.metrics import mean_squared_error \\nlearning_rate =0.001\\nbeta1=0.90\\nbeta2=0.99\\nepsilion=1e-8\\nLvInAdaGrad=[]\\nepochInAdaGrad =[]\\n\\n#gamma=0.001\\nfor i in range(1000):\\n    epochInAdaGrad.append(i)\\n    y_pred=[]\\n    \\n    for point in range(len(data)):\\n        forward_dict=forward_propagation(X[point],y[point],w)\\n        backward_dict=backward_propagation(X[point],y[point],w,forward_dict)\\n        y_pred.append(forward_dict[\\'dy_pred\\'])\\n        \\n        \\n        \\n        m[0]=beta1*m[0]+(1-beta1)*backward_dict[\"dw1\"]\\n        mt0=m[0]/(1-beta1)\\n        v[0]=beta2*v[0]+(1-beta2)*math.pow(backward_dict[\"dw1\"],2)\\n        vt0=v[0]/(1-beta2)\\n        w[0]=w[0]-(learning_rate/(math.sqrt(vt0+epsilion)))*mt0\\n        \\n        m[1]=beta1*m[0]+(1-beta1)*backward_dict[\"dw2\"]\\n        mt1=m[1]/(1-beta1)\\n        v[1]=beta2*v[0]+(1-beta2)*math.pow(backward_dict[\"dw2\"],2)\\n        vt1=v[1]/(1-beta2)\\n        w[1]=w[1]-(learning_rate/(math.sqrt(vt1+epsilion)))*mt1\\n        \\n        m[2]=beta1*m[1]+(1-beta1)*backward_dict[\"dw3\"]\\n        mt2=m[2]/(1-beta1)\\n        v[2]=beta2*v[1]+(1-beta2)*math.pow(backward_dict[\"dw3\"],2)\\n        vt2=v[2]/(1-beta2)\\n        w[2]=w[2]-(learning_rate/(math.sqrt(vt2+epsilion)))*mt2\\n        \\n        m[3]=beta1*m[2]+(1-beta1)*backward_dict[\"dw4\"]\\n        mt3=m[3]/(1-beta1)\\n        v[3]=beta2*v[2]+(1-beta2)*math.pow(backward_dict[\"dw4\"],2)\\n        vt3=v[3]/(1-beta2)\\n        w[3]=w[3]-(learning_rate/(math.sqrt(vt3+epsilion)))*mt3\\n        \\n        m[4]=beta1*m[3]+(1-beta1)*backward_dict[\"dw5\"]\\n        mt4=m[4]/(1-beta1)\\n        v[4]=beta2*v[3]+(1-beta2)*math.pow(backward_dict[\"dw5\"],2)\\n        vt4=v[4]/(1-beta2)\\n        w[4]=w[4]-(learning_rate/(math.sqrt(vt4+epsilion)))*mt4\\n        \\n        m[5]=beta1*m[4]+(1-beta1)*backward_dict[\"dw6\"]\\n        mt5=m[5]/(1-beta1)\\n        v[5]=beta2*v[4]+(1-beta2)*math.pow(backward_dict[\"dw6\"],2)\\n        vt5=v[5]/(1-beta2)\\n        w[5]=w[5]-(learning_rate/(math.sqrt(vt5+epsilion)))*mt5\\n        \\n        m[6]=beta1*m[5]+(1-beta1)*backward_dict[\"dw7\"]\\n        mt6=m[6]/(1-beta1)\\n        v[6]=beta2*v[5]+(1-beta2)*math.pow(backward_dict[\"dw7\"],2)\\n        vt6=v[6]/(1-beta2)\\n        w[6]=w[6]-(learning_rate/(math.sqrt(vt6+epsilion)))*mt6\\n        \\n        m[7]=beta1*m[6]+(1-beta1)*backward_dict[\"dw8\"]\\n        mt7=m[7]/(1-beta1)\\n        v[7]=beta2*v[6]+(1-beta2)*math.pow(backward_dict[\"dw8\"],2)\\n        vt7=v[7]/(1-beta2)\\n        w[7]=w[7]-(learning_rate/(math.sqrt(vt7+epsilion)))*mt7\\n        \\n        m[8]=beta1*m[7]+(1-beta1)*backward_dict[\"dw9\"]\\n        mt8=m[8]/(1-beta1)\\n        v[8]=beta2*v[7]+(1-beta2)*math.pow(backward_dict[\"dw9\"],2)\\n        vt8=v[7]/(1-beta2)\\n        w[8]=w[8]-(learning_rate/(math.sqrt(vt8+epsilion)))*mt8\\n        \\n    loss=mean_squared_error(y,y_pred)\\n    LvInAdaGrad.append(loss)\\n    \\nprint(LvInAdaGrad)\\n#print(epochInVanilla)\\n\\n#for _ in range(n_iter):\\n#        diff = -learn_rate * gradient(vector)\\n#        vector += diff\\n#        return vector\\n\\n'"
      ]
     },
     "execution_count": 68,
     "metadata": {},
     "output_type": "execute_result"
    }
   ],
   "source": [
    "'''\n",
    "\n",
    "from sklearn.metrics import mean_squared_error \n",
    "learning_rate =0.001\n",
    "beta1=0.90\n",
    "beta2=0.99\n",
    "epsilion=1e-8\n",
    "LvInAdaGrad=[]\n",
    "epochInAdaGrad =[]\n",
    "\n",
    "#gamma=0.001\n",
    "for i in range(1000):\n",
    "    epochInAdaGrad.append(i)\n",
    "    y_pred=[]\n",
    "    \n",
    "    for point in range(len(data)):\n",
    "        forward_dict=forward_propagation(X[point],y[point],w)\n",
    "        backward_dict=backward_propagation(X[point],y[point],w,forward_dict)\n",
    "        y_pred.append(forward_dict['dy_pred'])\n",
    "        \n",
    "        \n",
    "        \n",
    "        m[0]=beta1*m[0]+(1-beta1)*backward_dict[\"dw1\"]\n",
    "        mt0=m[0]/(1-beta1)\n",
    "        v[0]=beta2*v[0]+(1-beta2)*math.pow(backward_dict[\"dw1\"],2)\n",
    "        vt0=v[0]/(1-beta2)\n",
    "        w[0]=w[0]-(learning_rate/(math.sqrt(vt0+epsilion)))*mt0\n",
    "        \n",
    "        m[1]=beta1*m[0]+(1-beta1)*backward_dict[\"dw2\"]\n",
    "        mt1=m[1]/(1-beta1)\n",
    "        v[1]=beta2*v[0]+(1-beta2)*math.pow(backward_dict[\"dw2\"],2)\n",
    "        vt1=v[1]/(1-beta2)\n",
    "        w[1]=w[1]-(learning_rate/(math.sqrt(vt1+epsilion)))*mt1\n",
    "        \n",
    "        m[2]=beta1*m[1]+(1-beta1)*backward_dict[\"dw3\"]\n",
    "        mt2=m[2]/(1-beta1)\n",
    "        v[2]=beta2*v[1]+(1-beta2)*math.pow(backward_dict[\"dw3\"],2)\n",
    "        vt2=v[2]/(1-beta2)\n",
    "        w[2]=w[2]-(learning_rate/(math.sqrt(vt2+epsilion)))*mt2\n",
    "        \n",
    "        m[3]=beta1*m[2]+(1-beta1)*backward_dict[\"dw4\"]\n",
    "        mt3=m[3]/(1-beta1)\n",
    "        v[3]=beta2*v[2]+(1-beta2)*math.pow(backward_dict[\"dw4\"],2)\n",
    "        vt3=v[3]/(1-beta2)\n",
    "        w[3]=w[3]-(learning_rate/(math.sqrt(vt3+epsilion)))*mt3\n",
    "        \n",
    "        m[4]=beta1*m[3]+(1-beta1)*backward_dict[\"dw5\"]\n",
    "        mt4=m[4]/(1-beta1)\n",
    "        v[4]=beta2*v[3]+(1-beta2)*math.pow(backward_dict[\"dw5\"],2)\n",
    "        vt4=v[4]/(1-beta2)\n",
    "        w[4]=w[4]-(learning_rate/(math.sqrt(vt4+epsilion)))*mt4\n",
    "        \n",
    "        m[5]=beta1*m[4]+(1-beta1)*backward_dict[\"dw6\"]\n",
    "        mt5=m[5]/(1-beta1)\n",
    "        v[5]=beta2*v[4]+(1-beta2)*math.pow(backward_dict[\"dw6\"],2)\n",
    "        vt5=v[5]/(1-beta2)\n",
    "        w[5]=w[5]-(learning_rate/(math.sqrt(vt5+epsilion)))*mt5\n",
    "        \n",
    "        m[6]=beta1*m[5]+(1-beta1)*backward_dict[\"dw7\"]\n",
    "        mt6=m[6]/(1-beta1)\n",
    "        v[6]=beta2*v[5]+(1-beta2)*math.pow(backward_dict[\"dw7\"],2)\n",
    "        vt6=v[6]/(1-beta2)\n",
    "        w[6]=w[6]-(learning_rate/(math.sqrt(vt6+epsilion)))*mt6\n",
    "        \n",
    "        m[7]=beta1*m[6]+(1-beta1)*backward_dict[\"dw8\"]\n",
    "        mt7=m[7]/(1-beta1)\n",
    "        v[7]=beta2*v[6]+(1-beta2)*math.pow(backward_dict[\"dw8\"],2)\n",
    "        vt7=v[7]/(1-beta2)\n",
    "        w[7]=w[7]-(learning_rate/(math.sqrt(vt7+epsilion)))*mt7\n",
    "        \n",
    "        m[8]=beta1*m[7]+(1-beta1)*backward_dict[\"dw9\"]\n",
    "        mt8=m[8]/(1-beta1)\n",
    "        v[8]=beta2*v[7]+(1-beta2)*math.pow(backward_dict[\"dw9\"],2)\n",
    "        vt8=v[7]/(1-beta2)\n",
    "        w[8]=w[8]-(learning_rate/(math.sqrt(vt8+epsilion)))*mt8\n",
    "        \n",
    "    loss=mean_squared_error(y,y_pred)\n",
    "    LvInAdaGrad.append(loss)\n",
    "    \n",
    "print(LvInAdaGrad)\n",
    "#print(epochInVanilla)\n",
    "\n",
    "#for _ in range(n_iter):\n",
    "#        diff = -learn_rate * gradient(vector)\n",
    "#        vector += diff\n",
    "#        return vector\n",
    "\n",
    "'''\n",
    "#redundant Code"
   ]
  },
  {
   "cell_type": "code",
   "execution_count": 75,
   "metadata": {},
   "outputs": [
    {
     "data": {
      "text/plain": [
       "<matplotlib.legend.Legend at 0x161eea01a30>"
      ]
     },
     "execution_count": 75,
     "metadata": {},
     "output_type": "execute_result"
    },
    {
     "data": {
      "image/png": "[encoded data removed]",
      "text/plain": [
       "<Figure size 576x432 with 1 Axes>"
      ]
     },
     "metadata": {
      "needs_background": "light"
     },
     "output_type": "display_data"
    }
   ],
   "source": [
    "import matplotlib.pyplot as plt\n",
    "plt.figure(figsize=(8,6))\n",
    "plt.grid()\n",
    "plt.plot(epochInAdam[:174],LossInAdam[:174], label=' loss')\n",
    "plt.title(\"Per Epoch Loss\")\n",
    "plt.xlabel(\"Epoch\")\n",
    "plt.ylabel(\"Loss\")\n",
    "plt.legend()"
   ]
  },
  {
   "cell_type": "markdown",
   "metadata": {
    "id": "7627cy8YlnYO"
   },
   "source": [
    "<font color='blue'>Comparision plot between epochs and loss with different optimizers. Make sure that loss is conerging with increaing epochs</font>"
   ]
  },
  {
   "cell_type": "code",
   "execution_count": 79,
   "metadata": {
    "id": "scleSfIXl_bC"
   },
   "outputs": [
    {
     "data": {
      "image/png": "[encoded data removed]",
      "text/plain": [
       "<Figure size 576x432 with 1 Axes>"
      ]
     },
     "metadata": {
      "needs_background": "light"
     },
     "output_type": "display_data"
    }
   ],
   "source": [
    "AdamLoss=LossInAdam[:174]\n",
    "VanillaLoss=LvInVanilla[:174]\n",
    "MomentumLoss= LvInMomentum[:174]\n",
    "plt.figure(figsize=(8,6))\n",
    "plt.grid()\n",
    "epochs = range(1,175)\n",
    "plt.plot(epochs, AdamLoss, 'g', label='Adam Loss')\n",
    "plt.plot(epochs, MomentumLoss, 'orange', label='Momentum Loss')\n",
    "plt.plot(epochs, VanillaLoss, 'black', label='Vanilla Loss')\n",
    "plt.title('Adam v/s Momentum v/s Vanilla loss')\n",
    "plt.xlabel('Epochs')\n",
    "plt.ylabel('Loss')\n",
    "plt.legend()\n",
    "plt.show()"
   ]
  },
  {
   "cell_type": "markdown",
   "metadata": {
    "id": "YfDWEOCr69uQ"
   },
   "source": [
    "<font color='blue'><b>You can go through the following blog to understand the implementation of other optimizers .</font>\n",
    "   <br> [Gradients update blog](https://cs231n.github.io/neural-networks-3/) </br>"
   ]
  },
  {
   "cell_type": "code",
   "execution_count": null,
   "metadata": {
    "id": "IsoSyrCQ6_xb"
   },
   "outputs": [],
   "source": []
  }
 ],
 "metadata": {
  "colab": {
   "collapsed_sections": [],
   "name": "Backpropagation_Assignment.ipynb",
   "provenance": []
  },
  "kernelspec": {
   "display_name": "Python 3 (ipykernel)",
   "language": "python",
   "name": "python3"
  },
  "language_info": {
   "codemirror_mode": {
    "name": "ipython",
    "version": 3
   },
   "file_extension": ".py",
   "mimetype": "text/x-python",
   "name": "python",
   "nbconvert_exporter": "python",
   "pygments_lexer": "ipython3",
   "version": "3.9.13"
  }
 },
 "nbformat": 4,
 "nbformat_minor": 1
}
